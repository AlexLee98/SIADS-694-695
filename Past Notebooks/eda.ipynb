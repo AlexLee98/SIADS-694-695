{
 "cells": [
  {
   "cell_type": "markdown",
   "metadata": {},
   "source": [
    "The purpose of this notebook is to view the data distributions for the dataset. We want to make sure the data is somewhat evenly distributed among different demographic variables. Some variables that we will plot include gender, age, and health status. This step is important to see what types of biases we have in our data set or if our data is skewed to include more people of one group than another."
   ]
  },
  {
   "cell_type": "code",
   "execution_count": 58,
   "metadata": {},
   "outputs": [],
   "source": [
    "import pandas as pd\n",
    "import numpy as np\n",
    "import matplotlib.pyplot as plt"
   ]
  },
  {
   "cell_type": "code",
   "execution_count": 59,
   "metadata": {},
   "outputs": [
    {
     "name": "stderr",
     "output_type": "stream",
     "text": [
      "C:\\Users\\Urvi\\AppData\\Roaming\\Python\\Python39\\site-packages\\IPython\\core\\interactiveshell.py:3165: DtypeWarning: Columns (39,151,274,275,276,277,278,279,280,281,282,283,284,285,286,287,288,289,290,291,292,293,294,295,296,297) have mixed types.Specify dtype option on import or set low_memory=False.\n",
      "  has_raised = await self.run_ast_nodes(code_ast.body, cell_name,\n"
     ]
    }
   ],
   "source": [
    "# Read in DataFrame\n",
    "df = pd.read_csv('NYSDOH_BRFSS_SurveyData_2020.csv', encoding = 'cp1252')"
   ]
  },
  {
   "cell_type": "code",
   "execution_count": 60,
   "metadata": {},
   "outputs": [
    {
     "data": {
      "text/html": [
       "<div>\n",
       "<style scoped>\n",
       "    .dataframe tbody tr th:only-of-type {\n",
       "        vertical-align: middle;\n",
       "    }\n",
       "\n",
       "    .dataframe tbody tr th {\n",
       "        vertical-align: top;\n",
       "    }\n",
       "\n",
       "    .dataframe thead th {\n",
       "        text-align: right;\n",
       "    }\n",
       "</style>\n",
       "<table border=\"1\" class=\"dataframe\">\n",
       "  <thead>\n",
       "    <tr style=\"text-align: right;\">\n",
       "      <th></th>\n",
       "      <th>_STATE</th>\n",
       "      <th>IDATE</th>\n",
       "      <th>IMONTH</th>\n",
       "      <th>IDAY</th>\n",
       "      <th>IYEAR</th>\n",
       "      <th>SEQNO</th>\n",
       "      <th>_PSU</th>\n",
       "      <th>COLGSEX</th>\n",
       "      <th>LANDSEX</th>\n",
       "      <th>RESPSLCT</th>\n",
       "      <th>...</th>\n",
       "      <th>PPS_40</th>\n",
       "      <th>PPS_43</th>\n",
       "      <th>PPS_44</th>\n",
       "      <th>PPS_45</th>\n",
       "      <th>PPS_46</th>\n",
       "      <th>PPS_48</th>\n",
       "      <th>PPS_52</th>\n",
       "      <th>SEXNOCON_OTH</th>\n",
       "      <th>NOVEGFRU_OTH</th>\n",
       "      <th>CHILDREN</th>\n",
       "    </tr>\n",
       "  </thead>\n",
       "  <tbody>\n",
       "    <tr>\n",
       "      <th>0</th>\n",
       "      <td>New York</td>\n",
       "      <td>1152020</td>\n",
       "      <td>1</td>\n",
       "      <td>15</td>\n",
       "      <td>2020</td>\n",
       "      <td>2020002528</td>\n",
       "      <td>2020002528</td>\n",
       "      <td>Not asked or Missing</td>\n",
       "      <td>Not asked or Missing</td>\n",
       "      <td>Male</td>\n",
       "      <td>...</td>\n",
       "      <td>Data do not meet the criteria for statistical ...</td>\n",
       "      <td>Data do not meet the criteria for statistical ...</td>\n",
       "      <td>Data do not meet the criteria for statistical ...</td>\n",
       "      <td>Data do not meet the criteria for statistical ...</td>\n",
       "      <td>Data do not meet the criteria for statistical ...</td>\n",
       "      <td>Data do not meet the criteria for statistical ...</td>\n",
       "      <td>Data do not meet the criteria for statistical ...</td>\n",
       "      <td>NaN</td>\n",
       "      <td>NaN</td>\n",
       "      <td>Not asked or Missing</td>\n",
       "    </tr>\n",
       "    <tr>\n",
       "      <th>1</th>\n",
       "      <td>New York</td>\n",
       "      <td>1302020</td>\n",
       "      <td>1</td>\n",
       "      <td>30</td>\n",
       "      <td>2020</td>\n",
       "      <td>2020002529</td>\n",
       "      <td>2020002529</td>\n",
       "      <td>Not asked or Missing</td>\n",
       "      <td>Not asked or Missing</td>\n",
       "      <td>Male</td>\n",
       "      <td>...</td>\n",
       "      <td>Data do not meet the criteria for statistical ...</td>\n",
       "      <td>Data do not meet the criteria for statistical ...</td>\n",
       "      <td>Data do not meet the criteria for statistical ...</td>\n",
       "      <td>Data do not meet the criteria for statistical ...</td>\n",
       "      <td>Data do not meet the criteria for statistical ...</td>\n",
       "      <td>Data do not meet the criteria for statistical ...</td>\n",
       "      <td>Data do not meet the criteria for statistical ...</td>\n",
       "      <td>NaN</td>\n",
       "      <td>NaN</td>\n",
       "      <td>Not asked or Missing</td>\n",
       "    </tr>\n",
       "    <tr>\n",
       "      <th>2</th>\n",
       "      <td>New York</td>\n",
       "      <td>1152020</td>\n",
       "      <td>1</td>\n",
       "      <td>15</td>\n",
       "      <td>2020</td>\n",
       "      <td>2020002530</td>\n",
       "      <td>2020002530</td>\n",
       "      <td>Not asked or Missing</td>\n",
       "      <td>Female</td>\n",
       "      <td>Not asked or Missing</td>\n",
       "      <td>...</td>\n",
       "      <td>Data do not meet the criteria for statistical ...</td>\n",
       "      <td>Data do not meet the criteria for statistical ...</td>\n",
       "      <td>Data do not meet the criteria for statistical ...</td>\n",
       "      <td>Data do not meet the criteria for statistical ...</td>\n",
       "      <td>Data do not meet the criteria for statistical ...</td>\n",
       "      <td>Data do not meet the criteria for statistical ...</td>\n",
       "      <td>Data do not meet the criteria for statistical ...</td>\n",
       "      <td>NaN</td>\n",
       "      <td>NaN</td>\n",
       "      <td>Not asked or Missing</td>\n",
       "    </tr>\n",
       "    <tr>\n",
       "      <th>3</th>\n",
       "      <td>New York</td>\n",
       "      <td>2032020</td>\n",
       "      <td>2</td>\n",
       "      <td>3</td>\n",
       "      <td>2020</td>\n",
       "      <td>2020004509</td>\n",
       "      <td>2020004509</td>\n",
       "      <td>Not asked or Missing</td>\n",
       "      <td>Not asked or Missing</td>\n",
       "      <td>Female</td>\n",
       "      <td>...</td>\n",
       "      <td>Data do not meet the criteria for statistical ...</td>\n",
       "      <td>Data do not meet the criteria for statistical ...</td>\n",
       "      <td>Data do not meet the criteria for statistical ...</td>\n",
       "      <td>Data do not meet the criteria for statistical ...</td>\n",
       "      <td>Data do not meet the criteria for statistical ...</td>\n",
       "      <td>Data do not meet the criteria for statistical ...</td>\n",
       "      <td>Data do not meet the criteria for statistical ...</td>\n",
       "      <td>NaN</td>\n",
       "      <td>NaN</td>\n",
       "      <td>Not asked or Missing</td>\n",
       "    </tr>\n",
       "    <tr>\n",
       "      <th>4</th>\n",
       "      <td>New York</td>\n",
       "      <td>2152020</td>\n",
       "      <td>2</td>\n",
       "      <td>15</td>\n",
       "      <td>2020</td>\n",
       "      <td>2020002531</td>\n",
       "      <td>2020002531</td>\n",
       "      <td>Not asked or Missing</td>\n",
       "      <td>Not asked or Missing</td>\n",
       "      <td>Female</td>\n",
       "      <td>...</td>\n",
       "      <td>Data do not meet the criteria for statistical ...</td>\n",
       "      <td>Data do not meet the criteria for statistical ...</td>\n",
       "      <td>Data do not meet the criteria for statistical ...</td>\n",
       "      <td>Data do not meet the criteria for statistical ...</td>\n",
       "      <td>Data do not meet the criteria for statistical ...</td>\n",
       "      <td>Data do not meet the criteria for statistical ...</td>\n",
       "      <td>Data do not meet the criteria for statistical ...</td>\n",
       "      <td>NaN</td>\n",
       "      <td>NaN</td>\n",
       "      <td>Not asked or Missing</td>\n",
       "    </tr>\n",
       "  </tbody>\n",
       "</table>\n",
       "<p>5 rows × 329 columns</p>\n",
       "</div>"
      ],
      "text/plain": [
       "     _STATE    IDATE  IMONTH  IDAY  IYEAR       SEQNO        _PSU  \\\n",
       "0  New York  1152020       1    15   2020  2020002528  2020002528   \n",
       "1  New York  1302020       1    30   2020  2020002529  2020002529   \n",
       "2  New York  1152020       1    15   2020  2020002530  2020002530   \n",
       "3  New York  2032020       2     3   2020  2020004509  2020004509   \n",
       "4  New York  2152020       2    15   2020  2020002531  2020002531   \n",
       "\n",
       "                COLGSEX               LANDSEX              RESPSLCT  ...  \\\n",
       "0  Not asked or Missing  Not asked or Missing                  Male  ...   \n",
       "1  Not asked or Missing  Not asked or Missing                  Male  ...   \n",
       "2  Not asked or Missing                Female  Not asked or Missing  ...   \n",
       "3  Not asked or Missing  Not asked or Missing                Female  ...   \n",
       "4  Not asked or Missing  Not asked or Missing                Female  ...   \n",
       "\n",
       "                                              PPS_40  \\\n",
       "0  Data do not meet the criteria for statistical ...   \n",
       "1  Data do not meet the criteria for statistical ...   \n",
       "2  Data do not meet the criteria for statistical ...   \n",
       "3  Data do not meet the criteria for statistical ...   \n",
       "4  Data do not meet the criteria for statistical ...   \n",
       "\n",
       "                                              PPS_43  \\\n",
       "0  Data do not meet the criteria for statistical ...   \n",
       "1  Data do not meet the criteria for statistical ...   \n",
       "2  Data do not meet the criteria for statistical ...   \n",
       "3  Data do not meet the criteria for statistical ...   \n",
       "4  Data do not meet the criteria for statistical ...   \n",
       "\n",
       "                                              PPS_44  \\\n",
       "0  Data do not meet the criteria for statistical ...   \n",
       "1  Data do not meet the criteria for statistical ...   \n",
       "2  Data do not meet the criteria for statistical ...   \n",
       "3  Data do not meet the criteria for statistical ...   \n",
       "4  Data do not meet the criteria for statistical ...   \n",
       "\n",
       "                                              PPS_45  \\\n",
       "0  Data do not meet the criteria for statistical ...   \n",
       "1  Data do not meet the criteria for statistical ...   \n",
       "2  Data do not meet the criteria for statistical ...   \n",
       "3  Data do not meet the criteria for statistical ...   \n",
       "4  Data do not meet the criteria for statistical ...   \n",
       "\n",
       "                                              PPS_46  \\\n",
       "0  Data do not meet the criteria for statistical ...   \n",
       "1  Data do not meet the criteria for statistical ...   \n",
       "2  Data do not meet the criteria for statistical ...   \n",
       "3  Data do not meet the criteria for statistical ...   \n",
       "4  Data do not meet the criteria for statistical ...   \n",
       "\n",
       "                                              PPS_48  \\\n",
       "0  Data do not meet the criteria for statistical ...   \n",
       "1  Data do not meet the criteria for statistical ...   \n",
       "2  Data do not meet the criteria for statistical ...   \n",
       "3  Data do not meet the criteria for statistical ...   \n",
       "4  Data do not meet the criteria for statistical ...   \n",
       "\n",
       "                                              PPS_52 SEXNOCON_OTH  \\\n",
       "0  Data do not meet the criteria for statistical ...          NaN   \n",
       "1  Data do not meet the criteria for statistical ...          NaN   \n",
       "2  Data do not meet the criteria for statistical ...          NaN   \n",
       "3  Data do not meet the criteria for statistical ...          NaN   \n",
       "4  Data do not meet the criteria for statistical ...          NaN   \n",
       "\n",
       "  NOVEGFRU_OTH              CHILDREN  \n",
       "0          NaN  Not asked or Missing  \n",
       "1          NaN  Not asked or Missing  \n",
       "2          NaN  Not asked or Missing  \n",
       "3          NaN  Not asked or Missing  \n",
       "4          NaN  Not asked or Missing  \n",
       "\n",
       "[5 rows x 329 columns]"
      ]
     },
     "execution_count": 60,
     "metadata": {},
     "output_type": "execute_result"
    }
   ],
   "source": [
    "df.head()"
   ]
  },
  {
   "cell_type": "code",
   "execution_count": 61,
   "metadata": {},
   "outputs": [],
   "source": [
    "# Use df_clean for cleaning\n",
    "df_clean = df.copy()\n",
    "\n",
    "# Repalce 'Not asked or Missing' and 'Data do not meet the criteria for statistical reliability, \n",
    "# data quality or confidentiality (data are suppressed)' with NA\n",
    "for col in df.columns:\n",
    "    df_clean[col].replace({'Not asked or Missing' : np.nan}, inplace = True)\n",
    "    df_clean[col].replace({'Data do not meet the criteria for statistical reliability, data quality or confidentiality (data are suppressed)' : np.nan}, inplace = True)\n",
    "    \n",
    "# Drop columns with over 80% missing values\n",
    "df_clean.dropna(axis = 1, thresh = len(df_clean) * .50, inplace = True)"
   ]
  },
  {
   "cell_type": "code",
   "execution_count": 62,
   "metadata": {},
   "outputs": [
    {
     "data": {
      "text/plain": [
       "Index(['_STATE', 'IDATE', 'IMONTH', 'IDAY', 'IYEAR', 'SEQNO', '_PSU',\n",
       "       'CELLSEX', 'SEXVAR', 'GENHLTH',\n",
       "       ...\n",
       "       'WTRSOURCE', 'STRSMEAL', 'FRUITVEG', 'MJUSE30', 'MJNYSMMP', 'HEPCTEST',\n",
       "       'HEPCTOLD', '_WT2SPLITS', 'REGION', 'DSRIPREG'],\n",
       "      dtype='object', length=164)"
      ]
     },
     "execution_count": 62,
     "metadata": {},
     "output_type": "execute_result"
    }
   ],
   "source": [
    "df_clean.head(5)\n",
    "df_clean.columns"
   ]
  },
  {
   "cell_type": "markdown",
   "metadata": {},
   "source": [
    "Data distributions\n"
   ]
  },
  {
   "cell_type": "code",
   "execution_count": 63,
   "metadata": {},
   "outputs": [
    {
     "data": {
      "text/plain": [
       "<AxesSubplot:>"
      ]
     },
     "execution_count": 63,
     "metadata": {},
     "output_type": "execute_result"
    },
    {
     "data": {
      "image/png": "[encoded data removed]",
      "text/plain": [
       "<Figure size 432x288 with 1 Axes>"
      ]
     },
     "metadata": {
      "needs_background": "light"
     },
     "output_type": "display_data"
    }
   ],
   "source": [
    "#Distribution by gender\n",
    "df_counts = df_clean.sum()\n",
    "df_clean['SEXVAR'].value_counts().plot(kind='bar')"
   ]
  },
  {
   "cell_type": "code",
   "execution_count": 73,
   "metadata": {},
   "outputs": [
    {
     "data": {
      "text/plain": [
       "<AxesSubplot:>"
      ]
     },
     "execution_count": 73,
     "metadata": {},
     "output_type": "execute_result"
    },
    {
     "data": {
      "image/png": "[encoded data removed]",
      "text/plain": [
       "<Figure size 432x288 with 1 Axes>"
      ]
     },
     "metadata": {
      "needs_background": "light"
     },
     "output_type": "display_data"
    }
   ],
   "source": [
    "df_clean['INCOME2'].value_counts().plot(kind='bar')"
   ]
  },
  {
   "cell_type": "code",
   "execution_count": 64,
   "metadata": {},
   "outputs": [
    {
     "data": {
      "text/plain": [
       "<AxesSubplot:>"
      ]
     },
     "execution_count": 64,
     "metadata": {},
     "output_type": "execute_result"
    },
    {
     "data": {
      "image/png": "[encoded data removed]",
      "text/plain": [
       "<Figure size 432x288 with 1 Axes>"
      ]
     },
     "metadata": {
      "needs_background": "light"
     },
     "output_type": "display_data"
    }
   ],
   "source": [
    "df_clean['GENHLTH'].value_counts().plot(kind='bar')"
   ]
  },
  {
   "cell_type": "code",
   "execution_count": 65,
   "metadata": {},
   "outputs": [
    {
     "data": {
      "text/plain": [
       "<AxesSubplot:>"
      ]
     },
     "execution_count": 65,
     "metadata": {},
     "output_type": "execute_result"
    },
    {
     "data": {
      "image/png": "[encoded data removed]",
      "text/plain": [
       "<Figure size 432x288 with 1 Axes>"
      ]
     },
     "metadata": {
      "needs_background": "light"
     },
     "output_type": "display_data"
    }
   ],
   "source": [
    "df_clean['HLTHPLN1'].value_counts().plot(kind='bar')"
   ]
  },
  {
   "cell_type": "code",
   "execution_count": 66,
   "metadata": {},
   "outputs": [
    {
     "data": {
      "text/plain": [
       "<AxesSubplot:>"
      ]
     },
     "execution_count": 66,
     "metadata": {},
     "output_type": "execute_result"
    },
    {
     "data": {
      "image/png": "[encoded data removed]",
      "text/plain": [
       "<Figure size 432x288 with 1 Axes>"
      ]
     },
     "metadata": {
      "needs_background": "light"
     },
     "output_type": "display_data"
    }
   ],
   "source": [
    "df_clean['AGE'].value_counts().plot(kind='bar')"
   ]
  },
  {
   "cell_type": "markdown",
   "metadata": {},
   "source": [
    "The next step in our EDA is to see if the columns in our dataset are highly correlated or uncorrelated. For the unsupervised portion of the project, we want to use a form of dimensionality reduction to reduce the 300+ columns we have in our dataset to a few components. However, this method only works if the our data is already highly correlated, so we will confirm that here."
   ]
  },
  {
   "cell_type": "code",
   "execution_count": 67,
   "metadata": {},
   "outputs": [],
   "source": [
    "# Characteristics\n",
    "# 1. SEXVAR - Sex - (Male or Female)\n",
    "# 2. _IMPAGE - Age - (Age 65 or older, Age 55 - 64, Age 45 - 54, Age 35 - 44, Age 25 - 34, Age 18 - 24)\n",
    "# 3. _IMPRACE - Race - (White, Non-Hispanic, Hispanic, Black, Non-Hispanic, Other race, Non-Hispanic, Asian, Non-Hispanic,\n",
    "# American Indian/Alaskan Native, Non-Hispanic)\n",
    "# 4. VETERAN3 - Former veteran status - (Yes, No, Refused, Don't know/Not sure)\n",
    "# 5. WTKG3 - Weight in KG - (Continous value)\n",
    "# 6. _IMPMRTL - Marital status - (Married, Never Married, Divorced, Widowed, A member of an unmarried couple, \n",
    "# Separated)\n",
    "# 7. _RFBMI5 - Overweight or Obese - (Yes, No, Don’t know/Refused/Missing)\n",
    "\n",
    "\n",
    "# Health \n",
    "# 8. HLTHPLN1 - Has Healthcare Coverage - (Yes, No, Don't know/Not sure, Refused)\n",
    "# 9. ADDEPEV3 - Diagnosed with depression - (Yes, No, Don't know/Not sure, Refused)\n",
    "# 10. DIABETE4 - Diagnosed with diabetes - (Yes, Yes, but female told only during pregnancy, \n",
    "# No, pre-diabetes or borderline diabetes, No, Don't know/Not sure, Refused)\n",
    "# 11. RMVTETH4 - Number of teeth removed - All, 6 or more, but not all, 1 to 5, None, Don't know/Not sure, Refused\n",
    "# 12. _PHYS14D - Number of days physical health not well - (Zero days when physical health not good,     \n",
    "# 1-13 days when physical health not good, 14+ days when physical health not good, Don’t know/Refused/Missing)                 \n",
    "# 13. _MENT14D - Number of days mental health not well - Zero days when mental health not good\n",
    "# 1-13 days when mental health not good, 14+ days when mental health not good, Don’t know/Refused/Missing    \n",
    "# 14. _TOTINDA - Physical activity - (Had physical activity or exercise, No physical activity or exercise in last 30 days,     \n",
    "# Don’t know/Refused/Missing)       \n",
    "# 15. PDIABTST - User has gotten a test for high blood sugar in past 3 years - (Yes, No, Don't know/Not sure, Refused)\n",
    "# 16. PREDIAB1 - Diagnosed as prediabetic - Yes, Yes, during pregnancy, Don't know/Not Sure, Refused, No\n",
    "# 17. _RFHLTH - General health - (Good or Better Health, Fair or Poor Health, Don’t know/Not Sure Or Refused/Missing)\n",
    "# 18. BPHIGH4 - (Told they have high blood pressure - Yes, Told borderline high or pre-hypertensive, \n",
    "# Yes, but female told only during pregnancy, Don't Know/Not Sure Refused, No) \n",
    "\n",
    "# Lifestyle\n",
    "# 19. CHECKUP1 - Length since last checkup - (Within past year (anytime less than 12 months ago), \n",
    "# Within past 2 years (1 year but less than 2 years ago), Within past 5 years (2 years but less than 5 years ago), \n",
    "# 5 or more years ago, Don’t know/Not sure, Never, Refused)\n",
    "# 20. LASTDEN4 - Last visited dentist - (Within past year (anytime less than 12 months ago), \n",
    "# Within past 2 years (1 year but less than 2 years ago), Within past 5 years (2 years but less than 5 years ago), \n",
    "# 5 or more years ago, Don’t know/Not sure, Never, Refused)\n",
    "# 21. FLUSHOT7 - Whether someone has taken the flu shot - (Yes, No, Don't know/Not sure, Refused)\n",
    "# 22. _RFSEAT3 - Seatbeat wearing status - (Always Wear Seat Belt, Don’t Always Wear Seat Belt\n",
    "# Don’t know/Not Sure Or Refused/Missing)\n",
    "\n",
    "# Socioeconomic status\n",
    "# 23. _IMPEDUC - Education - (College 4 years or more (College graduate), \n",
    "# College 1 year to 3 years (Some college or technical school), Grade 12 or GED (High school graduate), \n",
    "# Grades 9 through 11 (Some high school), Grades 1 through 8 (Elementary), Never attended school or only kindergarten)\n",
    "# Grades 9 through 11 (Some high school), Grades 1 through 8 (Elementary), Never attended school or only kindergarten)\n",
    "# 24. EMPLOY1 - \n",
    "# 25. _INCOMG - Income level - ($50,000 or more, Don’t know/Not sure/Missing, $15,000 to less than $25,000,   \n",
    "# $35,000 to less than $50,000, $25,000 to less than $35,000, Less than $15,000)\n",
    "# 26. _METSTAT - Whether they live in a metropolitan - (1, 2)\n",
    "\n",
    "# Tobacco, Alcohol\n",
    "# 27. USENOW3 - Use of smokeless tobacco - (Not at all, Some days, Every day, Refused, Don’t know/Not Sure) \n",
    "# 28. ECIGARET - E-ciggarette usage - (Yes, No, Don't know/Not sure, Refused)\n",
    "# 29. _SMOKER3 - Smoking status - (Current smoker - now smokes every day, Current smoker - now smokes some days,\n",
    "# Former smoker, Never smoked, Don’t know/Refused/Missing\n",
    "# 30. _RFBING5 - Binge drinking status - (Yes, No, Don’t know/Refused/Missing)                \n",
    "\n",
    "# Columns to keep - Response variable\n",
    "# 31. CVDINFR4 - Ever diagnosed with heart attack - (Yes, No, Don't know/Not sure, Refused)\n",
    "# 32. CVDCRHD4 - Ever diagnosed with angina/ coronary heart disease - (Yes, No, Don't know/Not sure, Refused)\n",
    "\n",
    "# For now we will predict heart disease\n",
    "df_clean_columns = df_clean[['SEXVAR', '_IMPAGE', '_IMPRACE', 'VETERAN3', 'WTKG3', '_IMPMRTL', '_RFBMI5', \n",
    "                             'HLTHPLN1', 'ADDEPEV3', 'DIABETE4', 'RMVTETH4', '_PHYS14D', '_MENT14D', '_TOTINDA',\n",
    "                             'PDIABTST', 'PREDIAB1', '_RFHLTH', 'BPHIGH4', 'CHECKUP1', 'LASTDEN4', 'FLUSHOT7', \n",
    "                             '_RFSEAT3', '_IMPEDUC', 'EMPLOY1', '_INCOMG', '_METSTAT', 'USENOW3', 'ECIGARET',\n",
    "                             '_SMOKER3', '_RFBING5', 'CVDCRHD4']]"
   ]
  },
  {
   "cell_type": "code",
   "execution_count": 68,
   "metadata": {},
   "outputs": [
    {
     "name": "stderr",
     "output_type": "stream",
     "text": [
      "<ipython-input-68-f11c5e8ada30>:5: SettingWithCopyWarning: \n",
      "A value is trying to be set on a copy of a slice from a DataFrame.\n",
      "Try using .loc[row_indexer,col_indexer] = value instead\n",
      "\n",
      "See the caveats in the documentation: https://pandas.pydata.org/pandas-docs/stable/user_guide/indexing.html#returning-a-view-versus-a-copy\n",
      "  df_clean_columns[col] = df_clean_columns[col].astype('category').cat.codes\n"
     ]
    }
   ],
   "source": [
    "# Encode categorical values \n",
    "cols = list(df_clean_columns.columns)\n",
    "for col in cols:\n",
    "    if str(df_clean_columns[col].dtype) == 'object':\n",
    "        df_clean_columns[col] = df_clean_columns[col].astype('category').cat.codes"
   ]
  },
  {
   "cell_type": "code",
   "execution_count": 69,
   "metadata": {},
   "outputs": [
    {
     "name": "stderr",
     "output_type": "stream",
     "text": [
      "C:\\Users\\Urvi\\AppData\\Roaming\\Python\\Python39\\site-packages\\pandas\\core\\frame.py:4524: SettingWithCopyWarning: \n",
      "A value is trying to be set on a copy of a slice from a DataFrame\n",
      "\n",
      "See the caveats in the documentation: https://pandas.pydata.org/pandas-docs/stable/user_guide/indexing.html#returning-a-view-versus-a-copy\n",
      "  return super().replace(\n",
      "C:\\Users\\Urvi\\AppData\\Roaming\\Python\\Python39\\site-packages\\pandas\\core\\frame.py:4462: SettingWithCopyWarning: \n",
      "A value is trying to be set on a copy of a slice from a DataFrame\n",
      "\n",
      "See the caveats in the documentation: https://pandas.pydata.org/pandas-docs/stable/user_guide/indexing.html#returning-a-view-versus-a-copy\n",
      "  return super().fillna(\n"
     ]
    }
   ],
   "source": [
    "# Drop all missing values\n",
    "df_cleaned = df_clean_columns.dropna(axis = 0).reset_index(drop = True)\n",
    "\n",
    "# Drop all rows that are Don't know/Not sure or Refused for column we are predicting\n",
    "df_cleaned = df_cleaned.loc[(df_cleaned['CVDCRHD4'] == 0) | (df_cleaned['CVDCRHD4'] == 1)]\n",
    "# Split into X and y\n",
    "X = df_cleaned.loc[:, df_cleaned.columns != 'CVDCRHD4']\n",
    "y = df_cleaned['CVDCRHD4']\n",
    "\n",
    "X.replace([np.inf, -np.inf], np.nan, inplace=True)\n",
    "X.fillna(0, inplace=True)"
   ]
  },
  {
   "cell_type": "code",
   "execution_count": 72,
   "metadata": {},
   "outputs": [
    {
     "name": "stdout",
     "output_type": "stream",
     "text": [
      "Scatter coeff value 0.002201700794855199\n",
      "PSI Index 13.119038754458927\n"
     ]
    }
   ],
   "source": [
    "#scatter coefficient\n",
    "def scatter_coefficient(X, normalize=True):\n",
    "    corr = np.corrcoef(X, rowvar=False)\n",
    "    if normalize:\n",
    "        return np.linalg.det(corr) / np.trace(corr)\n",
    "    else:\n",
    "        return np.linalg.det(corr)\n",
    "\n",
    "\n",
    "def psi_index(X, normalize=False):\n",
    "    corr = np.corrcoef(X, rowvar=False)\n",
    "    \n",
    "    # Eigenvalues and eigenvectors from the correlation matrix\n",
    "    eig_val, eig_vec = np.linalg.eig(corr)\n",
    "    idx = eig_val.argsort()[::-1]\n",
    "    eig_val = eig_val[idx]\n",
    "    if normalize:\n",
    "        p = X.shape[0]\n",
    "        return np.sum((eig_val - 1)**2) / (p*(p-1))\n",
    "    else:\n",
    "        return np.sum((eig_val - 1)**2)\n",
    "#X = df_clean.loc[:, df_clean.columns != 'CVDCRHD4']\n",
    "print(\"Scatter coeff value\", scatter_coefficient(X, False))\n",
    "print(\"PSI Index\", psi_index(X, False))\n"
   ]
  }
 ],
 "metadata": {
  "interpreter": {
   "hash": "eabca979b0553fa6d87e9a00c352604d3b703d4afc9641643dd42376492b80f6"
  },
  "kernelspec": {
   "display_name": "Python 3.9.2 64-bit",
   "language": "python",
   "name": "python3"
  },
  "language_info": {
   "codemirror_mode": {
    "name": "ipython",
    "version": 3
   },
   "file_extension": ".py",
   "mimetype": "text/x-python",
   "name": "python",
   "nbconvert_exporter": "python",
   "pygments_lexer": "ipython3",
   "version": "3.9.2"
  },
  "orig_nbformat": 4
 },
 "nbformat": 4,
 "nbformat_minor": 2
}
