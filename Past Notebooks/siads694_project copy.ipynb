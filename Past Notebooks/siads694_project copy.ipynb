{
 "cells": [
  {
   "cell_type": "code",
   "execution_count": 18,
   "id": "7022c12f",
   "metadata": {},
   "outputs": [],
   "source": [
    "import pandas as pd\n",
    "import numpy as np\n",
    "from prince import FAMD\n",
    "import zipfile \n",
    "from sklearn.utils import resample\n",
    "import matplotlib.pyplot as plt\n",
    "from sklearn.dummy import DummyClassifier\n",
    "from sklearn.linear_model import LogisticRegression\n",
    "from sklearn.ensemble import RandomForestClassifier\n",
    "from sklearn.model_selection import GridSearchCV\n",
    "from sklearn.linear_model import LinearRegression\n",
    "from sklearn.preprocessing import PolynomialFeatures\n",
    "from sklearn.neighbors import KNeighborsRegressor\n",
    "from sklearn.metrics import accuracy_score,recall_score,precision_score,f1_score"
   ]
  },
  {
   "cell_type": "code",
   "execution_count": 2,
   "id": "7cc0330e",
   "metadata": {},
   "outputs": [
    {
     "name": "stderr",
     "output_type": "stream",
     "text": [
      "C:\\Users\\Urvi\\AppData\\Roaming\\Python\\Python39\\site-packages\\IPython\\core\\interactiveshell.py:3165: DtypeWarning: Columns (39,151,274,275,276,277,278,279,280,281,282,283,284,285,286,287,288,289,290,291,292,293,294,295,296,297) have mixed types.Specify dtype option on import or set low_memory=False.\n",
      "  has_raised = await self.run_ast_nodes(code_ast.body, cell_name,\n"
     ]
    }
   ],
   "source": [
    "# Read in DataFrame\n",
    "zf = zipfile.ZipFile('ny.csv.zip') \n",
    "zf.namelist() \n",
    "df = pd.read_csv(zf.open('ny.csv'),  encoding = 'cp1252')\n",
    "#df = pd.read_csv('ny.csv', encoding = 'cp1252')\n"
   ]
  },
  {
   "cell_type": "code",
   "execution_count": 3,
   "id": "9c236d7c",
   "metadata": {},
   "outputs": [
    {
     "data": {
      "text/html": [
       "<div>\n",
       "<style scoped>\n",
       "    .dataframe tbody tr th:only-of-type {\n",
       "        vertical-align: middle;\n",
       "    }\n",
       "\n",
       "    .dataframe tbody tr th {\n",
       "        vertical-align: top;\n",
       "    }\n",
       "\n",
       "    .dataframe thead th {\n",
       "        text-align: right;\n",
       "    }\n",
       "</style>\n",
       "<table border=\"1\" class=\"dataframe\">\n",
       "  <thead>\n",
       "    <tr style=\"text-align: right;\">\n",
       "      <th></th>\n",
       "      <th>_STATE</th>\n",
       "      <th>IDATE</th>\n",
       "      <th>IMONTH</th>\n",
       "      <th>IDAY</th>\n",
       "      <th>IYEAR</th>\n",
       "      <th>SEQNO</th>\n",
       "      <th>_PSU</th>\n",
       "      <th>COLGSEX</th>\n",
       "      <th>LANDSEX</th>\n",
       "      <th>RESPSLCT</th>\n",
       "      <th>...</th>\n",
       "      <th>PPS_40</th>\n",
       "      <th>PPS_43</th>\n",
       "      <th>PPS_44</th>\n",
       "      <th>PPS_45</th>\n",
       "      <th>PPS_46</th>\n",
       "      <th>PPS_48</th>\n",
       "      <th>PPS_52</th>\n",
       "      <th>SEXNOCON_OTH</th>\n",
       "      <th>NOVEGFRU_OTH</th>\n",
       "      <th>CHILDREN</th>\n",
       "    </tr>\n",
       "  </thead>\n",
       "  <tbody>\n",
       "    <tr>\n",
       "      <th>0</th>\n",
       "      <td>New York</td>\n",
       "      <td>1152020</td>\n",
       "      <td>1</td>\n",
       "      <td>15</td>\n",
       "      <td>2020</td>\n",
       "      <td>2020002528</td>\n",
       "      <td>2020002528</td>\n",
       "      <td>Not asked or Missing</td>\n",
       "      <td>Not asked or Missing</td>\n",
       "      <td>Male</td>\n",
       "      <td>...</td>\n",
       "      <td>Data do not meet the criteria for statistical ...</td>\n",
       "      <td>Data do not meet the criteria for statistical ...</td>\n",
       "      <td>Data do not meet the criteria for statistical ...</td>\n",
       "      <td>Data do not meet the criteria for statistical ...</td>\n",
       "      <td>Data do not meet the criteria for statistical ...</td>\n",
       "      <td>Data do not meet the criteria for statistical ...</td>\n",
       "      <td>Data do not meet the criteria for statistical ...</td>\n",
       "      <td>NaN</td>\n",
       "      <td>NaN</td>\n",
       "      <td>Not asked or Missing</td>\n",
       "    </tr>\n",
       "    <tr>\n",
       "      <th>1</th>\n",
       "      <td>New York</td>\n",
       "      <td>1302020</td>\n",
       "      <td>1</td>\n",
       "      <td>30</td>\n",
       "      <td>2020</td>\n",
       "      <td>2020002529</td>\n",
       "      <td>2020002529</td>\n",
       "      <td>Not asked or Missing</td>\n",
       "      <td>Not asked or Missing</td>\n",
       "      <td>Male</td>\n",
       "      <td>...</td>\n",
       "      <td>Data do not meet the criteria for statistical ...</td>\n",
       "      <td>Data do not meet the criteria for statistical ...</td>\n",
       "      <td>Data do not meet the criteria for statistical ...</td>\n",
       "      <td>Data do not meet the criteria for statistical ...</td>\n",
       "      <td>Data do not meet the criteria for statistical ...</td>\n",
       "      <td>Data do not meet the criteria for statistical ...</td>\n",
       "      <td>Data do not meet the criteria for statistical ...</td>\n",
       "      <td>NaN</td>\n",
       "      <td>NaN</td>\n",
       "      <td>Not asked or Missing</td>\n",
       "    </tr>\n",
       "    <tr>\n",
       "      <th>2</th>\n",
       "      <td>New York</td>\n",
       "      <td>1152020</td>\n",
       "      <td>1</td>\n",
       "      <td>15</td>\n",
       "      <td>2020</td>\n",
       "      <td>2020002530</td>\n",
       "      <td>2020002530</td>\n",
       "      <td>Not asked or Missing</td>\n",
       "      <td>Female</td>\n",
       "      <td>Not asked or Missing</td>\n",
       "      <td>...</td>\n",
       "      <td>Data do not meet the criteria for statistical ...</td>\n",
       "      <td>Data do not meet the criteria for statistical ...</td>\n",
       "      <td>Data do not meet the criteria for statistical ...</td>\n",
       "      <td>Data do not meet the criteria for statistical ...</td>\n",
       "      <td>Data do not meet the criteria for statistical ...</td>\n",
       "      <td>Data do not meet the criteria for statistical ...</td>\n",
       "      <td>Data do not meet the criteria for statistical ...</td>\n",
       "      <td>NaN</td>\n",
       "      <td>NaN</td>\n",
       "      <td>Not asked or Missing</td>\n",
       "    </tr>\n",
       "    <tr>\n",
       "      <th>3</th>\n",
       "      <td>New York</td>\n",
       "      <td>2032020</td>\n",
       "      <td>2</td>\n",
       "      <td>3</td>\n",
       "      <td>2020</td>\n",
       "      <td>2020004509</td>\n",
       "      <td>2020004509</td>\n",
       "      <td>Not asked or Missing</td>\n",
       "      <td>Not asked or Missing</td>\n",
       "      <td>Female</td>\n",
       "      <td>...</td>\n",
       "      <td>Data do not meet the criteria for statistical ...</td>\n",
       "      <td>Data do not meet the criteria for statistical ...</td>\n",
       "      <td>Data do not meet the criteria for statistical ...</td>\n",
       "      <td>Data do not meet the criteria for statistical ...</td>\n",
       "      <td>Data do not meet the criteria for statistical ...</td>\n",
       "      <td>Data do not meet the criteria for statistical ...</td>\n",
       "      <td>Data do not meet the criteria for statistical ...</td>\n",
       "      <td>NaN</td>\n",
       "      <td>NaN</td>\n",
       "      <td>Not asked or Missing</td>\n",
       "    </tr>\n",
       "    <tr>\n",
       "      <th>4</th>\n",
       "      <td>New York</td>\n",
       "      <td>2152020</td>\n",
       "      <td>2</td>\n",
       "      <td>15</td>\n",
       "      <td>2020</td>\n",
       "      <td>2020002531</td>\n",
       "      <td>2020002531</td>\n",
       "      <td>Not asked or Missing</td>\n",
       "      <td>Not asked or Missing</td>\n",
       "      <td>Female</td>\n",
       "      <td>...</td>\n",
       "      <td>Data do not meet the criteria for statistical ...</td>\n",
       "      <td>Data do not meet the criteria for statistical ...</td>\n",
       "      <td>Data do not meet the criteria for statistical ...</td>\n",
       "      <td>Data do not meet the criteria for statistical ...</td>\n",
       "      <td>Data do not meet the criteria for statistical ...</td>\n",
       "      <td>Data do not meet the criteria for statistical ...</td>\n",
       "      <td>Data do not meet the criteria for statistical ...</td>\n",
       "      <td>NaN</td>\n",
       "      <td>NaN</td>\n",
       "      <td>Not asked or Missing</td>\n",
       "    </tr>\n",
       "  </tbody>\n",
       "</table>\n",
       "<p>5 rows × 329 columns</p>\n",
       "</div>"
      ],
      "text/plain": [
       "     _STATE    IDATE  IMONTH  IDAY  IYEAR       SEQNO        _PSU  \\\n",
       "0  New York  1152020       1    15   2020  2020002528  2020002528   \n",
       "1  New York  1302020       1    30   2020  2020002529  2020002529   \n",
       "2  New York  1152020       1    15   2020  2020002530  2020002530   \n",
       "3  New York  2032020       2     3   2020  2020004509  2020004509   \n",
       "4  New York  2152020       2    15   2020  2020002531  2020002531   \n",
       "\n",
       "                COLGSEX               LANDSEX              RESPSLCT  ...  \\\n",
       "0  Not asked or Missing  Not asked or Missing                  Male  ...   \n",
       "1  Not asked or Missing  Not asked or Missing                  Male  ...   \n",
       "2  Not asked or Missing                Female  Not asked or Missing  ...   \n",
       "3  Not asked or Missing  Not asked or Missing                Female  ...   \n",
       "4  Not asked or Missing  Not asked or Missing                Female  ...   \n",
       "\n",
       "                                              PPS_40  \\\n",
       "0  Data do not meet the criteria for statistical ...   \n",
       "1  Data do not meet the criteria for statistical ...   \n",
       "2  Data do not meet the criteria for statistical ...   \n",
       "3  Data do not meet the criteria for statistical ...   \n",
       "4  Data do not meet the criteria for statistical ...   \n",
       "\n",
       "                                              PPS_43  \\\n",
       "0  Data do not meet the criteria for statistical ...   \n",
       "1  Data do not meet the criteria for statistical ...   \n",
       "2  Data do not meet the criteria for statistical ...   \n",
       "3  Data do not meet the criteria for statistical ...   \n",
       "4  Data do not meet the criteria for statistical ...   \n",
       "\n",
       "                                              PPS_44  \\\n",
       "0  Data do not meet the criteria for statistical ...   \n",
       "1  Data do not meet the criteria for statistical ...   \n",
       "2  Data do not meet the criteria for statistical ...   \n",
       "3  Data do not meet the criteria for statistical ...   \n",
       "4  Data do not meet the criteria for statistical ...   \n",
       "\n",
       "                                              PPS_45  \\\n",
       "0  Data do not meet the criteria for statistical ...   \n",
       "1  Data do not meet the criteria for statistical ...   \n",
       "2  Data do not meet the criteria for statistical ...   \n",
       "3  Data do not meet the criteria for statistical ...   \n",
       "4  Data do not meet the criteria for statistical ...   \n",
       "\n",
       "                                              PPS_46  \\\n",
       "0  Data do not meet the criteria for statistical ...   \n",
       "1  Data do not meet the criteria for statistical ...   \n",
       "2  Data do not meet the criteria for statistical ...   \n",
       "3  Data do not meet the criteria for statistical ...   \n",
       "4  Data do not meet the criteria for statistical ...   \n",
       "\n",
       "                                              PPS_48  \\\n",
       "0  Data do not meet the criteria for statistical ...   \n",
       "1  Data do not meet the criteria for statistical ...   \n",
       "2  Data do not meet the criteria for statistical ...   \n",
       "3  Data do not meet the criteria for statistical ...   \n",
       "4  Data do not meet the criteria for statistical ...   \n",
       "\n",
       "                                              PPS_52 SEXNOCON_OTH  \\\n",
       "0  Data do not meet the criteria for statistical ...          NaN   \n",
       "1  Data do not meet the criteria for statistical ...          NaN   \n",
       "2  Data do not meet the criteria for statistical ...          NaN   \n",
       "3  Data do not meet the criteria for statistical ...          NaN   \n",
       "4  Data do not meet the criteria for statistical ...          NaN   \n",
       "\n",
       "  NOVEGFRU_OTH              CHILDREN  \n",
       "0          NaN  Not asked or Missing  \n",
       "1          NaN  Not asked or Missing  \n",
       "2          NaN  Not asked or Missing  \n",
       "3          NaN  Not asked or Missing  \n",
       "4          NaN  Not asked or Missing  \n",
       "\n",
       "[5 rows x 329 columns]"
      ]
     },
     "execution_count": 3,
     "metadata": {},
     "output_type": "execute_result"
    }
   ],
   "source": [
    "# View first 5 rows of the data\n",
    "\n",
    "df.head(5)"
   ]
  },
  {
   "cell_type": "code",
   "execution_count": 4,
   "id": "2673159e",
   "metadata": {},
   "outputs": [],
   "source": [
    "# Use df_clean for cleaning\n",
    "df_clean = df.copy()\n",
    "\n",
    "# Repalce 'Not asked or Missing' and 'Data do not meet the criteria for statistical reliability, \n",
    "# data quality or confidentiality (data are suppressed)' with NA\n",
    "for col in df.columns:\n",
    "    df_clean[col].replace({'Not asked or Missing' : np.nan}, inplace = True)\n",
    "    df_clean[col].replace({'Data do not meet the criteria for statistical reliability, data quality or confidentiality (data are suppressed)' : np.nan}, inplace = True)\n",
    "    \n",
    "# Drop columns with over 80% missing values\n",
    "df_clean.dropna(axis = 1, thresh = len(df_clean) * .50, inplace = True)"
   ]
  },
  {
   "cell_type": "code",
   "execution_count": 5,
   "id": "5061ea7d",
   "metadata": {},
   "outputs": [
    {
     "data": {
      "text/html": [
       "<div>\n",
       "<style scoped>\n",
       "    .dataframe tbody tr th:only-of-type {\n",
       "        vertical-align: middle;\n",
       "    }\n",
       "\n",
       "    .dataframe tbody tr th {\n",
       "        vertical-align: top;\n",
       "    }\n",
       "\n",
       "    .dataframe thead th {\n",
       "        text-align: right;\n",
       "    }\n",
       "</style>\n",
       "<table border=\"1\" class=\"dataframe\">\n",
       "  <thead>\n",
       "    <tr style=\"text-align: right;\">\n",
       "      <th></th>\n",
       "      <th>_STATE</th>\n",
       "      <th>IDATE</th>\n",
       "      <th>IMONTH</th>\n",
       "      <th>IDAY</th>\n",
       "      <th>IYEAR</th>\n",
       "      <th>SEQNO</th>\n",
       "      <th>_PSU</th>\n",
       "      <th>CELLSEX</th>\n",
       "      <th>SEXVAR</th>\n",
       "      <th>GENHLTH</th>\n",
       "      <th>...</th>\n",
       "      <th>WTRSOURCE</th>\n",
       "      <th>STRSMEAL</th>\n",
       "      <th>FRUITVEG</th>\n",
       "      <th>MJUSE30</th>\n",
       "      <th>MJNYSMMP</th>\n",
       "      <th>HEPCTEST</th>\n",
       "      <th>HEPCTOLD</th>\n",
       "      <th>_WT2SPLITS</th>\n",
       "      <th>REGION</th>\n",
       "      <th>DSRIPREG</th>\n",
       "    </tr>\n",
       "  </thead>\n",
       "  <tbody>\n",
       "    <tr>\n",
       "      <th>0</th>\n",
       "      <td>New York</td>\n",
       "      <td>1152020</td>\n",
       "      <td>1</td>\n",
       "      <td>15</td>\n",
       "      <td>2020</td>\n",
       "      <td>2020002528</td>\n",
       "      <td>2020002528</td>\n",
       "      <td>NaN</td>\n",
       "      <td>Male</td>\n",
       "      <td>Very good</td>\n",
       "      <td>...</td>\n",
       "      <td>Public Water Supply</td>\n",
       "      <td>Always</td>\n",
       "      <td>NaN</td>\n",
       "      <td>None</td>\n",
       "      <td>No</td>\n",
       "      <td>No</td>\n",
       "      <td>No</td>\n",
       "      <td>5130.843243</td>\n",
       "      <td>NYS exclusive of NYC</td>\n",
       "      <td>Long Island</td>\n",
       "    </tr>\n",
       "    <tr>\n",
       "      <th>1</th>\n",
       "      <td>New York</td>\n",
       "      <td>1302020</td>\n",
       "      <td>1</td>\n",
       "      <td>30</td>\n",
       "      <td>2020</td>\n",
       "      <td>2020002529</td>\n",
       "      <td>2020002529</td>\n",
       "      <td>NaN</td>\n",
       "      <td>Male</td>\n",
       "      <td>Very good</td>\n",
       "      <td>...</td>\n",
       "      <td>Public Water Supply</td>\n",
       "      <td>Never</td>\n",
       "      <td>NaN</td>\n",
       "      <td>None</td>\n",
       "      <td>No</td>\n",
       "      <td>No</td>\n",
       "      <td>No</td>\n",
       "      <td>941.550458</td>\n",
       "      <td>NYS exclusive of NYC</td>\n",
       "      <td>Long Island</td>\n",
       "    </tr>\n",
       "    <tr>\n",
       "      <th>2</th>\n",
       "      <td>New York</td>\n",
       "      <td>1152020</td>\n",
       "      <td>1</td>\n",
       "      <td>15</td>\n",
       "      <td>2020</td>\n",
       "      <td>2020002530</td>\n",
       "      <td>2020002530</td>\n",
       "      <td>NaN</td>\n",
       "      <td>Female</td>\n",
       "      <td>Good</td>\n",
       "      <td>...</td>\n",
       "      <td>Public Water Supply</td>\n",
       "      <td>Never</td>\n",
       "      <td>NaN</td>\n",
       "      <td>None</td>\n",
       "      <td>No</td>\n",
       "      <td>No</td>\n",
       "      <td>No</td>\n",
       "      <td>3497.366203</td>\n",
       "      <td>NYS exclusive of NYC</td>\n",
       "      <td>Long Island</td>\n",
       "    </tr>\n",
       "    <tr>\n",
       "      <th>3</th>\n",
       "      <td>New York</td>\n",
       "      <td>2032020</td>\n",
       "      <td>2</td>\n",
       "      <td>3</td>\n",
       "      <td>2020</td>\n",
       "      <td>2020004509</td>\n",
       "      <td>2020004509</td>\n",
       "      <td>NaN</td>\n",
       "      <td>Female</td>\n",
       "      <td>Good</td>\n",
       "      <td>...</td>\n",
       "      <td>Public Water Supply</td>\n",
       "      <td>Never</td>\n",
       "      <td>Neighborhood</td>\n",
       "      <td>None</td>\n",
       "      <td>No</td>\n",
       "      <td>NaN</td>\n",
       "      <td>NaN</td>\n",
       "      <td>1187.709030</td>\n",
       "      <td>NYS exclusive of NYC</td>\n",
       "      <td>Long Island</td>\n",
       "    </tr>\n",
       "    <tr>\n",
       "      <th>4</th>\n",
       "      <td>New York</td>\n",
       "      <td>2152020</td>\n",
       "      <td>2</td>\n",
       "      <td>15</td>\n",
       "      <td>2020</td>\n",
       "      <td>2020002531</td>\n",
       "      <td>2020002531</td>\n",
       "      <td>NaN</td>\n",
       "      <td>Male</td>\n",
       "      <td>Fair</td>\n",
       "      <td>...</td>\n",
       "      <td>Don't Know/Not Sure</td>\n",
       "      <td>Rarely</td>\n",
       "      <td>NaN</td>\n",
       "      <td>None</td>\n",
       "      <td>No</td>\n",
       "      <td>No</td>\n",
       "      <td>No</td>\n",
       "      <td>13364.387863</td>\n",
       "      <td>NYS exclusive of NYC</td>\n",
       "      <td>Long Island</td>\n",
       "    </tr>\n",
       "  </tbody>\n",
       "</table>\n",
       "<p>5 rows × 164 columns</p>\n",
       "</div>"
      ],
      "text/plain": [
       "     _STATE    IDATE  IMONTH  IDAY  IYEAR       SEQNO        _PSU CELLSEX  \\\n",
       "0  New York  1152020       1    15   2020  2020002528  2020002528     NaN   \n",
       "1  New York  1302020       1    30   2020  2020002529  2020002529     NaN   \n",
       "2  New York  1152020       1    15   2020  2020002530  2020002530     NaN   \n",
       "3  New York  2032020       2     3   2020  2020004509  2020004509     NaN   \n",
       "4  New York  2152020       2    15   2020  2020002531  2020002531     NaN   \n",
       "\n",
       "   SEXVAR    GENHLTH  ...            WTRSOURCE STRSMEAL      FRUITVEG MJUSE30  \\\n",
       "0    Male  Very good  ...  Public Water Supply   Always           NaN    None   \n",
       "1    Male  Very good  ...  Public Water Supply    Never           NaN    None   \n",
       "2  Female       Good  ...  Public Water Supply    Never           NaN    None   \n",
       "3  Female       Good  ...  Public Water Supply    Never  Neighborhood    None   \n",
       "4    Male       Fair  ...  Don't Know/Not Sure   Rarely           NaN    None   \n",
       "\n",
       "  MJNYSMMP HEPCTEST HEPCTOLD    _WT2SPLITS                REGION     DSRIPREG  \n",
       "0       No       No       No   5130.843243  NYS exclusive of NYC  Long Island  \n",
       "1       No       No       No    941.550458  NYS exclusive of NYC  Long Island  \n",
       "2       No       No       No   3497.366203  NYS exclusive of NYC  Long Island  \n",
       "3       No      NaN      NaN   1187.709030  NYS exclusive of NYC  Long Island  \n",
       "4       No       No       No  13364.387863  NYS exclusive of NYC  Long Island  \n",
       "\n",
       "[5 rows x 164 columns]"
      ]
     },
     "execution_count": 5,
     "metadata": {},
     "output_type": "execute_result"
    }
   ],
   "source": [
    "# View first 5 rows of DataFrame after cleaning out missing values\n",
    "df_clean.head(5)"
   ]
  },
  {
   "cell_type": "code",
   "execution_count": 6,
   "id": "0562eac0",
   "metadata": {},
   "outputs": [
    {
     "data": {
      "text/plain": [
       "['_STATE',\n",
       " 'IDATE',\n",
       " 'IMONTH',\n",
       " 'IDAY',\n",
       " 'IYEAR',\n",
       " 'SEQNO',\n",
       " '_PSU',\n",
       " 'CELLSEX',\n",
       " 'SEXVAR',\n",
       " 'GENHLTH',\n",
       " 'PHYSHLTH',\n",
       " 'MENTHLTH',\n",
       " 'HLTHPLN1',\n",
       " 'PERSDOC2',\n",
       " 'MEDCOST',\n",
       " 'CHECKUP1',\n",
       " 'EXERANY2',\n",
       " 'SLEPTIM1',\n",
       " 'CVDINFR4',\n",
       " 'CVDCRHD4',\n",
       " 'CVDSTRK3',\n",
       " 'ASTHMA3',\n",
       " 'CHCSCNCR',\n",
       " 'CHCOCNCR',\n",
       " 'CHCCOPD2',\n",
       " 'HAVARTH4',\n",
       " 'ADDEPEV3',\n",
       " 'CHCKDNY2',\n",
       " 'DIABETE4',\n",
       " 'LASTDEN4',\n",
       " 'RMVTETH4',\n",
       " 'AGE',\n",
       " 'HISPANC3',\n",
       " 'MRACE1',\n",
       " 'MARITAL',\n",
       " 'EDUCA',\n",
       " 'RENTHOM1',\n",
       " 'VETERAN3',\n",
       " 'EMPLOY1',\n",
       " 'INCOME2',\n",
       " 'WEIGHT2',\n",
       " 'HEIGHT3',\n",
       " 'DEAF',\n",
       " 'BLIND',\n",
       " 'DECIDE',\n",
       " 'DIFFWALK',\n",
       " 'DIFFDRES',\n",
       " 'DIFFALON',\n",
       " 'SMOKE100',\n",
       " 'USENOW3',\n",
       " 'ALCDAY5',\n",
       " 'AVEDRNK3',\n",
       " 'DRNK3GE5',\n",
       " 'MAXDRNKS',\n",
       " 'FLUSHOT7',\n",
       " 'SHINGLE2',\n",
       " 'PNEUVAC4',\n",
       " 'FALL12MN',\n",
       " 'FALLINJ4',\n",
       " 'SEATBELT',\n",
       " 'DRNKDRI2',\n",
       " 'COLNSCPY',\n",
       " 'SIGMSCPY',\n",
       " 'BLDSTOL1',\n",
       " 'STOOLDNA',\n",
       " 'VIRCOLON',\n",
       " 'HIVTST7',\n",
       " 'HIVRISK5',\n",
       " 'PDIABTST',\n",
       " 'PREDIAB1',\n",
       " 'ECIGARET',\n",
       " 'CNCRAGE',\n",
       " 'CNCRTYP1',\n",
       " 'BIRTHSEX',\n",
       " 'SOFEMALE',\n",
       " 'ADHISPA',\n",
       " 'QSTVER',\n",
       " 'QSTLANG',\n",
       " '_URBNRRL',\n",
       " '_METSTAT',\n",
       " '_URBSTAT',\n",
       " 'MSCODE',\n",
       " '_STSTR',\n",
       " '_IMPSEX',\n",
       " '_IMPAGE',\n",
       " '_IMPRACE',\n",
       " '_IMPEDUC',\n",
       " '_IMPMRTL',\n",
       " '_IMPHOME',\n",
       " '_LLCPWT',\n",
       " '_RFHLTH',\n",
       " '_PHYS14D',\n",
       " '_MENT14D',\n",
       " '_HCVU651',\n",
       " '_TOTINDA',\n",
       " '_MICHD',\n",
       " '_LTASTH1',\n",
       " '_CASTHM1',\n",
       " '_ASTHMS1',\n",
       " '_DRDXAR2',\n",
       " '_EXTETH3',\n",
       " '_ALTETH3',\n",
       " '_DENVST3',\n",
       " '_PRACE1',\n",
       " '_MRACE1',\n",
       " '_M_RACE',\n",
       " '_HISPANC',\n",
       " '_RACE',\n",
       " '_RACEG21',\n",
       " '_RACEGR3',\n",
       " '_RACEPRV',\n",
       " '_SEX',\n",
       " '_AGEG5YR',\n",
       " '_AGE65YR',\n",
       " '_AGE80',\n",
       " '_AGE_G',\n",
       " 'HTIN4',\n",
       " 'HTM4',\n",
       " 'WTKG3',\n",
       " '_BMI5',\n",
       " '_BMI5CAT',\n",
       " '_RFBMI5',\n",
       " '_CHLDCNT',\n",
       " '_EDUCAG',\n",
       " '_INCOMG',\n",
       " '_SMOKER3',\n",
       " '_RFSMOK3',\n",
       " 'DRNKANY5',\n",
       " 'DROCDY3_',\n",
       " '_RFBING5',\n",
       " '_DRNKWK1',\n",
       " '_RFDRHV7',\n",
       " '_FLSHOT7',\n",
       " '_PNEUMO3',\n",
       " '_RFSEAT2',\n",
       " '_RFSEAT3',\n",
       " '_DRNKDRV',\n",
       " '_RFMAM22',\n",
       " '_MAM5023',\n",
       " '_RFPAP35',\n",
       " '_RFPSA23',\n",
       " '_CLNSCPY',\n",
       " '_SGMSCPY',\n",
       " '_SGMS10Y',\n",
       " '_RFBLDS4',\n",
       " '_STOLDNA',\n",
       " '_VIRCOLN',\n",
       " '_SBONTIM',\n",
       " '_CRCREC1',\n",
       " '_AIDTST4',\n",
       " 'MEDICARE',\n",
       " 'HLTHCVR1',\n",
       " 'BPHIGH4',\n",
       " 'USEPNMED',\n",
       " 'WTRSOURCE',\n",
       " 'STRSMEAL',\n",
       " 'FRUITVEG',\n",
       " 'MJUSE30',\n",
       " 'MJNYSMMP',\n",
       " 'HEPCTEST',\n",
       " 'HEPCTOLD',\n",
       " '_WT2SPLITS',\n",
       " 'REGION',\n",
       " 'DSRIPREG']"
      ]
     },
     "execution_count": 6,
     "metadata": {},
     "output_type": "execute_result"
    }
   ],
   "source": [
    "# Select relevant columns related to heart disease by utilizing resources detailing factors of heart disease\n",
    "# shorturl.at/oqwF5 - Behavioral risk factors of coronary artery disease: A paired matched case control study\n",
    "# shorturl.at/cpAXZ - Strategies to prevent heart disease\n",
    "# shorturl.at/gpwAR - Top five habits that harm the heart\n",
    "# shorturl.at/mtJUZ - 9 Common Habits That Are Bad for Your Heart\n",
    "\n",
    "list(df_clean.columns)"
   ]
  },
  {
   "cell_type": "code",
   "execution_count": 7,
   "id": "56f567e9",
   "metadata": {},
   "outputs": [],
   "source": [
    "# Characteristics\n",
    "# 1. SEXVAR - Sex - (Male or Female)\n",
    "# 2. _IMPAGE - Age - (Age 65 or older, Age 55 - 64, Age 45 - 54, Age 35 - 44, Age 25 - 34, Age 18 - 24)\n",
    "# 3. _IMPRACE - Race - (White, Non-Hispanic, Hispanic, Black, Non-Hispanic, Other race, Non-Hispanic, Asian, Non-Hispanic,\n",
    "# American Indian/Alaskan Native, Non-Hispanic)\n",
    "# 4. VETERAN3 - Former veteran status - (Yes, No, Refused, Don't know/Not sure)\n",
    "# 5. WTKG3 - Weight in KG - (Continous value)\n",
    "# 6. _IMPMRTL - Marital status - (Married, Never Married, Divorced, Widowed, A member of an unmarried couple, \n",
    "# Separated)\n",
    "# 7. _RFBMI5 - Overweight or Obese - (Yes, No, Don’t know/Refused/Missing)\n",
    "\n",
    "\n",
    "# Health \n",
    "# 8. HLTHPLN1 - Has Healthcare Coverage - (Yes, No, Don't know/Not sure, Refused)\n",
    "# 9. ADDEPEV3 - Diagnosed with depression - (Yes, No, Don't know/Not sure, Refused)\n",
    "# 10. DIABETE4 - Diagnosed with diabetes - (Yes, Yes, but female told only during pregnancy, \n",
    "# No, pre-diabetes or borderline diabetes, No, Don't know/Not sure, Refused)\n",
    "# 11. RMVTETH4 - Number of teeth removed - All, 6 or more, but not all, 1 to 5, None, Don't know/Not sure, Refused\n",
    "# 12. _PHYS14D - Number of days physical health not well - (Zero days when physical health not good,     \n",
    "# 1-13 days when physical health not good, 14+ days when physical health not good, Don’t know/Refused/Missing)                 \n",
    "# 13. _MENT14D - Number of days mental health not well - Zero days when mental health not good\n",
    "# 1-13 days when mental health not good, 14+ days when mental health not good, Don’t know/Refused/Missing    \n",
    "# 14. _TOTINDA - Physical activity - (Had physical activity or exercise, No physical activity or exercise in last 30 days,     \n",
    "# Don’t know/Refused/Missing)       \n",
    "# 15. PDIABTST - User has gotten a test for high blood sugar in past 3 years - (Yes, No, Don't know/Not sure, Refused)\n",
    "# 16. PREDIAB1 - Diagnosed as prediabetic - Yes, Yes, during pregnancy, Don't know/Not Sure, Refused, No\n",
    "# 17. _RFHLTH - General health - (Good or Better Health, Fair or Poor Health, Don’t know/Not Sure Or Refused/Missing)\n",
    "# 18. BPHIGH4 - (Told they have high blood pressure - Yes, Told borderline high or pre-hypertensive, \n",
    "# Yes, but female told only during pregnancy, Don't Know/Not Sure Refused, No) \n",
    "\n",
    "# Lifestyle\n",
    "# 19. CHECKUP1 - Length since last checkup - (Within past year (anytime less than 12 months ago), \n",
    "# Within past 2 years (1 year but less than 2 years ago), Within past 5 years (2 years but less than 5 years ago), \n",
    "# 5 or more years ago, Don’t know/Not sure, Never, Refused)\n",
    "# 20. LASTDEN4 - Last visited dentist - (Within past year (anytime less than 12 months ago), \n",
    "# Within past 2 years (1 year but less than 2 years ago), Within past 5 years (2 years but less than 5 years ago), \n",
    "# 5 or more years ago, Don’t know/Not sure, Never, Refused)\n",
    "# 21. FLUSHOT7 - Whether someone has taken the flu shot - (Yes, No, Don't know/Not sure, Refused)\n",
    "# 22. _RFSEAT3 - Seatbeat wearing status - (Always Wear Seat Belt, Don’t Always Wear Seat Belt\n",
    "# Don’t know/Not Sure Or Refused/Missing)\n",
    "\n",
    "# Socioeconomic status\n",
    "# 23. _IMPEDUC - Education - (College 4 years or more (College graduate), \n",
    "# College 1 year to 3 years (Some college or technical school), Grade 12 or GED (High school graduate), \n",
    "# Grades 9 through 11 (Some high school), Grades 1 through 8 (Elementary), Never attended school or only kindergarten)\n",
    "# Grades 9 through 11 (Some high school), Grades 1 through 8 (Elementary), Never attended school or only kindergarten)\n",
    "# 24. EMPLOY1 - \n",
    "# 25. _INCOMG - Income level - ($50,000 or more, Don’t know/Not sure/Missing, $15,000 to less than $25,000,   \n",
    "# $35,000 to less than $50,000, $25,000 to less than $35,000, Less than $15,000)\n",
    "# 26. _METSTAT - Whether they live in a metropolitan - (1, 2)\n",
    "\n",
    "# Tobacco, Alcohol\n",
    "# 27. USENOW3 - Use of smokeless tobacco - (Not at all, Some days, Every day, Refused, Don’t know/Not Sure) \n",
    "# 28. ECIGARET - E-ciggarette usage - (Yes, No, Don't know/Not sure, Refused)\n",
    "# 29. _SMOKER3 - Smoking status - (Current smoker - now smokes every day, Current smoker - now smokes some days,\n",
    "# Former smoker, Never smoked, Don’t know/Refused/Missing\n",
    "# 30. _RFBING5 - Binge drinking status - (Yes, No, Don’t know/Refused/Missing)                \n",
    "\n",
    "# Columns to keep - Response variable\n",
    "# 31. CVDINFR4 - Ever diagnosed with heart attack - (Yes, No, Don't know/Not sure, Refused)\n",
    "# 32. CVDCRHD4 - Ever diagnosed with angina/ coronary heart disease - (Yes, No, Don't know/Not sure, Refused)\n",
    "\n",
    "# For now we will predict heart disease\n",
    "df_clean_columns = df_clean[['SEXVAR', '_IMPAGE', '_IMPRACE', 'VETERAN3', 'WTKG3', '_IMPMRTL', '_RFBMI5', \n",
    "                             'HLTHPLN1', 'ADDEPEV3', 'DIABETE4', 'RMVTETH4', '_PHYS14D', '_MENT14D', '_TOTINDA',\n",
    "                             'PDIABTST', 'PREDIAB1', '_RFHLTH', 'BPHIGH4', 'CHECKUP1', 'LASTDEN4', 'FLUSHOT7', \n",
    "                             '_RFSEAT3', '_IMPEDUC', 'EMPLOY1', '_INCOMG', '_METSTAT', 'USENOW3', 'ECIGARET',\n",
    "                             '_SMOKER3', '_RFBING5', 'CVDCRHD4']]"
   ]
  },
  {
   "cell_type": "code",
   "execution_count": 8,
   "id": "c0e8b38d",
   "metadata": {},
   "outputs": [
    {
     "data": {
      "text/html": [
       "<div>\n",
       "<style scoped>\n",
       "    .dataframe tbody tr th:only-of-type {\n",
       "        vertical-align: middle;\n",
       "    }\n",
       "\n",
       "    .dataframe tbody tr th {\n",
       "        vertical-align: top;\n",
       "    }\n",
       "\n",
       "    .dataframe thead th {\n",
       "        text-align: right;\n",
       "    }\n",
       "</style>\n",
       "<table border=\"1\" class=\"dataframe\">\n",
       "  <thead>\n",
       "    <tr style=\"text-align: right;\">\n",
       "      <th></th>\n",
       "      <th>SEXVAR</th>\n",
       "      <th>_IMPAGE</th>\n",
       "      <th>_IMPRACE</th>\n",
       "      <th>VETERAN3</th>\n",
       "      <th>WTKG3</th>\n",
       "      <th>_IMPMRTL</th>\n",
       "      <th>_RFBMI5</th>\n",
       "      <th>HLTHPLN1</th>\n",
       "      <th>ADDEPEV3</th>\n",
       "      <th>DIABETE4</th>\n",
       "      <th>...</th>\n",
       "      <th>_RFSEAT3</th>\n",
       "      <th>_IMPEDUC</th>\n",
       "      <th>EMPLOY1</th>\n",
       "      <th>_INCOMG</th>\n",
       "      <th>_METSTAT</th>\n",
       "      <th>USENOW3</th>\n",
       "      <th>ECIGARET</th>\n",
       "      <th>_SMOKER3</th>\n",
       "      <th>_RFBING5</th>\n",
       "      <th>CVDCRHD4</th>\n",
       "    </tr>\n",
       "  </thead>\n",
       "  <tbody>\n",
       "    <tr>\n",
       "      <th>0</th>\n",
       "      <td>Male</td>\n",
       "      <td>Age 65 or older</td>\n",
       "      <td>Asian, Non-Hispanic</td>\n",
       "      <td>No</td>\n",
       "      <td>11113.0</td>\n",
       "      <td>Married</td>\n",
       "      <td>Yes</td>\n",
       "      <td>Yes</td>\n",
       "      <td>No</td>\n",
       "      <td>No</td>\n",
       "      <td>...</td>\n",
       "      <td>Always Wear Seat Belt</td>\n",
       "      <td>College 4 years or more (College graduate)</td>\n",
       "      <td>Employed for wages</td>\n",
       "      <td>$50,000 or more</td>\n",
       "      <td>1</td>\n",
       "      <td>Not at all</td>\n",
       "      <td>No</td>\n",
       "      <td>Never smoked</td>\n",
       "      <td>No</td>\n",
       "      <td>No</td>\n",
       "    </tr>\n",
       "    <tr>\n",
       "      <th>1</th>\n",
       "      <td>Male</td>\n",
       "      <td>Age 55 to 64</td>\n",
       "      <td>White, Non-Hispanic</td>\n",
       "      <td>No</td>\n",
       "      <td>9525.0</td>\n",
       "      <td>Married</td>\n",
       "      <td>Yes</td>\n",
       "      <td>Yes</td>\n",
       "      <td>No</td>\n",
       "      <td>No</td>\n",
       "      <td>...</td>\n",
       "      <td>Always Wear Seat Belt</td>\n",
       "      <td>College 4 years or more (College graduate)</td>\n",
       "      <td>Employed for wages</td>\n",
       "      <td>$50,000 or more</td>\n",
       "      <td>1</td>\n",
       "      <td>Not at all</td>\n",
       "      <td>No</td>\n",
       "      <td>Never smoked</td>\n",
       "      <td>No</td>\n",
       "      <td>No</td>\n",
       "    </tr>\n",
       "    <tr>\n",
       "      <th>2</th>\n",
       "      <td>Female</td>\n",
       "      <td>Age 65 or older</td>\n",
       "      <td>White, Non-Hispanic</td>\n",
       "      <td>No</td>\n",
       "      <td>5897.0</td>\n",
       "      <td>Widowed</td>\n",
       "      <td>No</td>\n",
       "      <td>Yes</td>\n",
       "      <td>No</td>\n",
       "      <td>Yes</td>\n",
       "      <td>...</td>\n",
       "      <td>Always Wear Seat Belt</td>\n",
       "      <td>College 4 years or more (College graduate)</td>\n",
       "      <td>Retired</td>\n",
       "      <td>$50,000 or more</td>\n",
       "      <td>1</td>\n",
       "      <td>Not at all</td>\n",
       "      <td>No</td>\n",
       "      <td>Former smoker</td>\n",
       "      <td>No</td>\n",
       "      <td>No</td>\n",
       "    </tr>\n",
       "    <tr>\n",
       "      <th>3</th>\n",
       "      <td>Female</td>\n",
       "      <td>Age 65 or older</td>\n",
       "      <td>White, Non-Hispanic</td>\n",
       "      <td>No</td>\n",
       "      <td>6123.0</td>\n",
       "      <td>Widowed</td>\n",
       "      <td>Yes</td>\n",
       "      <td>Yes</td>\n",
       "      <td>Yes</td>\n",
       "      <td>No</td>\n",
       "      <td>...</td>\n",
       "      <td>Always Wear Seat Belt</td>\n",
       "      <td>College 4 years or more (College graduate)</td>\n",
       "      <td>Retired</td>\n",
       "      <td>$50,000 or more</td>\n",
       "      <td>1</td>\n",
       "      <td>Not at all</td>\n",
       "      <td>No</td>\n",
       "      <td>Never smoked</td>\n",
       "      <td>No</td>\n",
       "      <td>No</td>\n",
       "    </tr>\n",
       "    <tr>\n",
       "      <th>4</th>\n",
       "      <td>Male</td>\n",
       "      <td>Age 35 to 44</td>\n",
       "      <td>Hispanic</td>\n",
       "      <td>No</td>\n",
       "      <td>6350.0</td>\n",
       "      <td>Married</td>\n",
       "      <td>Yes</td>\n",
       "      <td>Don’t know/Not Sure</td>\n",
       "      <td>Yes</td>\n",
       "      <td>Yes</td>\n",
       "      <td>...</td>\n",
       "      <td>Always Wear Seat Belt</td>\n",
       "      <td>Grades 1 through 8 (Elementary)</td>\n",
       "      <td>Self-employed</td>\n",
       "      <td>Don’t know/Not sure/Missing</td>\n",
       "      <td>1</td>\n",
       "      <td>Not at all</td>\n",
       "      <td>No</td>\n",
       "      <td>Never smoked</td>\n",
       "      <td>No</td>\n",
       "      <td>No</td>\n",
       "    </tr>\n",
       "    <tr>\n",
       "      <th>...</th>\n",
       "      <td>...</td>\n",
       "      <td>...</td>\n",
       "      <td>...</td>\n",
       "      <td>...</td>\n",
       "      <td>...</td>\n",
       "      <td>...</td>\n",
       "      <td>...</td>\n",
       "      <td>...</td>\n",
       "      <td>...</td>\n",
       "      <td>...</td>\n",
       "      <td>...</td>\n",
       "      <td>...</td>\n",
       "      <td>...</td>\n",
       "      <td>...</td>\n",
       "      <td>...</td>\n",
       "      <td>...</td>\n",
       "      <td>...</td>\n",
       "      <td>...</td>\n",
       "      <td>...</td>\n",
       "      <td>...</td>\n",
       "      <td>...</td>\n",
       "    </tr>\n",
       "    <tr>\n",
       "      <th>14764</th>\n",
       "      <td>Male</td>\n",
       "      <td>Age 25 to 34</td>\n",
       "      <td>Asian, Non-Hispanic</td>\n",
       "      <td>No</td>\n",
       "      <td>5897.0</td>\n",
       "      <td>Married</td>\n",
       "      <td>No</td>\n",
       "      <td>Yes</td>\n",
       "      <td>Yes</td>\n",
       "      <td>No</td>\n",
       "      <td>...</td>\n",
       "      <td>Always Wear Seat Belt</td>\n",
       "      <td>College 4 years or more (College graduate)</td>\n",
       "      <td>Employed for wages</td>\n",
       "      <td>$50,000 or more</td>\n",
       "      <td>1</td>\n",
       "      <td>Not at all</td>\n",
       "      <td>NaN</td>\n",
       "      <td>Never smoked</td>\n",
       "      <td>No</td>\n",
       "      <td>No</td>\n",
       "    </tr>\n",
       "    <tr>\n",
       "      <th>14765</th>\n",
       "      <td>Female</td>\n",
       "      <td>Age 25 to 34</td>\n",
       "      <td>Hispanic</td>\n",
       "      <td>No</td>\n",
       "      <td>5897.0</td>\n",
       "      <td>Divorced</td>\n",
       "      <td>No</td>\n",
       "      <td>Yes</td>\n",
       "      <td>No</td>\n",
       "      <td>No</td>\n",
       "      <td>...</td>\n",
       "      <td>Always Wear Seat Belt</td>\n",
       "      <td>College 4 years or more (College graduate)</td>\n",
       "      <td>Out of work for less than 1 year</td>\n",
       "      <td>$15,000 to less than $25,000</td>\n",
       "      <td>1</td>\n",
       "      <td>Not at all</td>\n",
       "      <td>NaN</td>\n",
       "      <td>Never smoked</td>\n",
       "      <td>No</td>\n",
       "      <td>No</td>\n",
       "    </tr>\n",
       "    <tr>\n",
       "      <th>14766</th>\n",
       "      <td>Female</td>\n",
       "      <td>Age 18 to 24</td>\n",
       "      <td>Other race, Non-Hispanic</td>\n",
       "      <td>No</td>\n",
       "      <td>5670.0</td>\n",
       "      <td>Never married</td>\n",
       "      <td>No</td>\n",
       "      <td>Yes</td>\n",
       "      <td>Yes</td>\n",
       "      <td>No</td>\n",
       "      <td>...</td>\n",
       "      <td>Always Wear Seat Belt</td>\n",
       "      <td>College 1 year to 3 years (Some college or tec...</td>\n",
       "      <td>A student</td>\n",
       "      <td>Don’t know/Not sure/Missing</td>\n",
       "      <td>1</td>\n",
       "      <td>Not at all</td>\n",
       "      <td>NaN</td>\n",
       "      <td>Never smoked</td>\n",
       "      <td>No</td>\n",
       "      <td>No</td>\n",
       "    </tr>\n",
       "    <tr>\n",
       "      <th>14767</th>\n",
       "      <td>Female</td>\n",
       "      <td>Age 45 to 54</td>\n",
       "      <td>Asian, Non-Hispanic</td>\n",
       "      <td>No</td>\n",
       "      <td>6804.0</td>\n",
       "      <td>Never married</td>\n",
       "      <td>Yes</td>\n",
       "      <td>Yes</td>\n",
       "      <td>No</td>\n",
       "      <td>No</td>\n",
       "      <td>...</td>\n",
       "      <td>Always Wear Seat Belt</td>\n",
       "      <td>Grade 12 or GED (High school graduate)</td>\n",
       "      <td>Out of work for less than 1 year</td>\n",
       "      <td>$15,000 to less than $25,000</td>\n",
       "      <td>1</td>\n",
       "      <td>Not at all</td>\n",
       "      <td>NaN</td>\n",
       "      <td>Never smoked</td>\n",
       "      <td>No</td>\n",
       "      <td>No</td>\n",
       "    </tr>\n",
       "    <tr>\n",
       "      <th>14768</th>\n",
       "      <td>Female</td>\n",
       "      <td>Age 25 to 34</td>\n",
       "      <td>White, Non-Hispanic</td>\n",
       "      <td>No</td>\n",
       "      <td>6804.0</td>\n",
       "      <td>Never married</td>\n",
       "      <td>No</td>\n",
       "      <td>Yes</td>\n",
       "      <td>No</td>\n",
       "      <td>No</td>\n",
       "      <td>...</td>\n",
       "      <td>Always Wear Seat Belt</td>\n",
       "      <td>College 4 years or more (College graduate)</td>\n",
       "      <td>Employed for wages</td>\n",
       "      <td>$50,000 or more</td>\n",
       "      <td>1</td>\n",
       "      <td>Not at all</td>\n",
       "      <td>NaN</td>\n",
       "      <td>Never smoked</td>\n",
       "      <td>No</td>\n",
       "      <td>No</td>\n",
       "    </tr>\n",
       "  </tbody>\n",
       "</table>\n",
       "<p>14769 rows × 31 columns</p>\n",
       "</div>"
      ],
      "text/plain": [
       "       SEXVAR          _IMPAGE                  _IMPRACE VETERAN3    WTKG3  \\\n",
       "0        Male  Age 65 or older       Asian, Non-Hispanic       No  11113.0   \n",
       "1        Male     Age 55 to 64       White, Non-Hispanic       No   9525.0   \n",
       "2      Female  Age 65 or older       White, Non-Hispanic       No   5897.0   \n",
       "3      Female  Age 65 or older       White, Non-Hispanic       No   6123.0   \n",
       "4        Male     Age 35 to 44                  Hispanic       No   6350.0   \n",
       "...       ...              ...                       ...      ...      ...   \n",
       "14764    Male     Age 25 to 34       Asian, Non-Hispanic       No   5897.0   \n",
       "14765  Female     Age 25 to 34                  Hispanic       No   5897.0   \n",
       "14766  Female     Age 18 to 24  Other race, Non-Hispanic       No   5670.0   \n",
       "14767  Female     Age 45 to 54       Asian, Non-Hispanic       No   6804.0   \n",
       "14768  Female     Age 25 to 34       White, Non-Hispanic       No   6804.0   \n",
       "\n",
       "            _IMPMRTL _RFBMI5             HLTHPLN1 ADDEPEV3 DIABETE4  ...  \\\n",
       "0            Married     Yes                  Yes       No       No  ...   \n",
       "1            Married     Yes                  Yes       No       No  ...   \n",
       "2            Widowed      No                  Yes       No      Yes  ...   \n",
       "3            Widowed     Yes                  Yes      Yes       No  ...   \n",
       "4            Married     Yes  Don’t know/Not Sure      Yes      Yes  ...   \n",
       "...              ...     ...                  ...      ...      ...  ...   \n",
       "14764        Married      No                  Yes      Yes       No  ...   \n",
       "14765       Divorced      No                  Yes       No       No  ...   \n",
       "14766  Never married      No                  Yes      Yes       No  ...   \n",
       "14767  Never married     Yes                  Yes       No       No  ...   \n",
       "14768  Never married      No                  Yes       No       No  ...   \n",
       "\n",
       "                    _RFSEAT3  \\\n",
       "0      Always Wear Seat Belt   \n",
       "1      Always Wear Seat Belt   \n",
       "2      Always Wear Seat Belt   \n",
       "3      Always Wear Seat Belt   \n",
       "4      Always Wear Seat Belt   \n",
       "...                      ...   \n",
       "14764  Always Wear Seat Belt   \n",
       "14765  Always Wear Seat Belt   \n",
       "14766  Always Wear Seat Belt   \n",
       "14767  Always Wear Seat Belt   \n",
       "14768  Always Wear Seat Belt   \n",
       "\n",
       "                                                _IMPEDUC  \\\n",
       "0             College 4 years or more (College graduate)   \n",
       "1             College 4 years or more (College graduate)   \n",
       "2             College 4 years or more (College graduate)   \n",
       "3             College 4 years or more (College graduate)   \n",
       "4                        Grades 1 through 8 (Elementary)   \n",
       "...                                                  ...   \n",
       "14764         College 4 years or more (College graduate)   \n",
       "14765         College 4 years or more (College graduate)   \n",
       "14766  College 1 year to 3 years (Some college or tec...   \n",
       "14767             Grade 12 or GED (High school graduate)   \n",
       "14768         College 4 years or more (College graduate)   \n",
       "\n",
       "                                EMPLOY1                       _INCOMG  \\\n",
       "0                    Employed for wages               $50,000 or more   \n",
       "1                    Employed for wages               $50,000 or more   \n",
       "2                               Retired               $50,000 or more   \n",
       "3                               Retired               $50,000 or more   \n",
       "4                         Self-employed   Don’t know/Not sure/Missing   \n",
       "...                                 ...                           ...   \n",
       "14764                Employed for wages               $50,000 or more   \n",
       "14765  Out of work for less than 1 year  $15,000 to less than $25,000   \n",
       "14766                         A student   Don’t know/Not sure/Missing   \n",
       "14767  Out of work for less than 1 year  $15,000 to less than $25,000   \n",
       "14768                Employed for wages               $50,000 or more   \n",
       "\n",
       "      _METSTAT     USENOW3 ECIGARET       _SMOKER3 _RFBING5 CVDCRHD4  \n",
       "0            1  Not at all       No   Never smoked       No       No  \n",
       "1            1  Not at all       No   Never smoked       No       No  \n",
       "2            1  Not at all       No  Former smoker       No       No  \n",
       "3            1  Not at all       No   Never smoked       No       No  \n",
       "4            1  Not at all       No   Never smoked       No       No  \n",
       "...        ...         ...      ...            ...      ...      ...  \n",
       "14764        1  Not at all      NaN   Never smoked       No       No  \n",
       "14765        1  Not at all      NaN   Never smoked       No       No  \n",
       "14766        1  Not at all      NaN   Never smoked       No       No  \n",
       "14767        1  Not at all      NaN   Never smoked       No       No  \n",
       "14768        1  Not at all      NaN   Never smoked       No       No  \n",
       "\n",
       "[14769 rows x 31 columns]"
      ]
     },
     "execution_count": 8,
     "metadata": {},
     "output_type": "execute_result"
    }
   ],
   "source": [
    "df_clean_columns"
   ]
  },
  {
   "cell_type": "code",
   "execution_count": 9,
   "id": "50791c42",
   "metadata": {
    "scrolled": true
   },
   "outputs": [
    {
     "name": "stdout",
     "output_type": "stream",
     "text": [
      "<class 'pandas.core.frame.DataFrame'>\n",
      "RangeIndex: 14769 entries, 0 to 14768\n",
      "Data columns (total 31 columns):\n",
      " #   Column    Non-Null Count  Dtype  \n",
      "---  ------    --------------  -----  \n",
      " 0   SEXVAR    14769 non-null  object \n",
      " 1   _IMPAGE   14769 non-null  object \n",
      " 2   _IMPRACE  14769 non-null  object \n",
      " 3   VETERAN3  14702 non-null  object \n",
      " 4   WTKG3     12872 non-null  float64\n",
      " 5   _IMPMRTL  14769 non-null  object \n",
      " 6   _RFBMI5   14769 non-null  object \n",
      " 7   HLTHPLN1  14769 non-null  object \n",
      " 8   ADDEPEV3  14769 non-null  object \n",
      " 9   DIABETE4  14769 non-null  object \n",
      " 10  RMVTETH4  14769 non-null  object \n",
      " 11  _PHYS14D  14769 non-null  object \n",
      " 12  _MENT14D  14769 non-null  object \n",
      " 13  _TOTINDA  14769 non-null  object \n",
      " 14  PDIABTST  8367 non-null   object \n",
      " 15  PREDIAB1  8367 non-null   object \n",
      " 16  _RFHLTH   14769 non-null  object \n",
      " 17  BPHIGH4   9454 non-null   object \n",
      " 18  CHECKUP1  14769 non-null  object \n",
      " 19  LASTDEN4  14769 non-null  object \n",
      " 20  FLUSHOT7  13586 non-null  object \n",
      " 21  _RFSEAT3  14769 non-null  object \n",
      " 22  _IMPEDUC  14769 non-null  object \n",
      " 23  EMPLOY1   14608 non-null  object \n",
      " 24  _INCOMG   14769 non-null  object \n",
      " 25  _METSTAT  14769 non-null  int64  \n",
      " 26  USENOW3   13790 non-null  object \n",
      " 27  ECIGARET  8832 non-null   object \n",
      " 28  _SMOKER3  14769 non-null  object \n",
      " 29  _RFBING5  14769 non-null  object \n",
      " 30  CVDCRHD4  14769 non-null  object \n",
      "dtypes: float64(1), int64(1), object(29)\n",
      "memory usage: 3.5+ MB\n"
     ]
    }
   ],
   "source": [
    "# View non-null count \n",
    "df_clean_columns.info()"
   ]
  },
  {
   "cell_type": "code",
   "execution_count": 10,
   "id": "90940701",
   "metadata": {},
   "outputs": [
    {
     "data": {
      "text/plain": [
       "\"\\n# Encode categorical values \\ncols = list(df_clean_columns.columns)\\nfor col in cols:\\n    if str(df_clean_columns[col].dtype) == 'object':\\n        df_clean_columns[col] = df_clean_columns[col].astype('category').cat.codes\\n\""
      ]
     },
     "execution_count": 10,
     "metadata": {},
     "output_type": "execute_result"
    }
   ],
   "source": [
    "\"\"\"\n",
    "# Encode categorical values \n",
    "cols = list(df_clean_columns.columns)\n",
    "for col in cols:\n",
    "    if str(df_clean_columns[col].dtype) == 'object':\n",
    "        df_clean_columns[col] = df_clean_columns[col].astype('category').cat.codes\n",
    "\"\"\"    "
   ]
  },
  {
   "cell_type": "code",
   "execution_count": 11,
   "id": "25d3176b",
   "metadata": {},
   "outputs": [],
   "source": [
    "from sklearn.model_selection import train_test_split \n",
    "\n",
    "# Drop all missing values\n",
    "df_cleaned = df_clean_columns.dropna(axis = 0).reset_index(drop = True)\n",
    "\n",
    "# Drop all rows that are Don't know/Not sure or Refused for column we are predicting\n",
    "df_cleaned = df_cleaned.loc[(df_cleaned['CVDCRHD4'] == 'No') | (df_cleaned['CVDCRHD4'] == 'Yes')]\n",
    "\n",
    "# Split into X and y\n",
    "X = df_cleaned.loc[:, df_cleaned.columns != 'CVDCRHD4']\n",
    "y = df_cleaned['CVDCRHD4']\n",
    "\n",
    "# Split the data into training and test data set\n",
    "X_train, X_test, y_train, y_test = train_test_split(X, y, train_size = 0.7, test_size = 0.3,random_state = 42)"
   ]
  },
  {
   "cell_type": "code",
   "execution_count": 12,
   "id": "9e789c67",
   "metadata": {},
   "outputs": [
    {
     "data": {
      "application/vnd.plotly.v1+json": {
       "config": {
        "plotlyServerURL": "https://plot.ly"
       },
       "data": [
        {
         "hovertemplate": "num_components=%{x}<br>explained_variance=%{y}<extra></extra>",
         "legendgroup": "",
         "marker": {
          "color": "#636efa",
          "symbol": "circle"
         },
         "mode": "markers",
         "name": "",
         "orientation": "v",
         "showlegend": false,
         "type": "scatter",
         "x": [
          1,
          2,
          3,
          4,
          5,
          6,
          7,
          8,
          9,
          10,
          11,
          12,
          13,
          14,
          15,
          16,
          17,
          18,
          19,
          20,
          21,
          22,
          23,
          24,
          25,
          26,
          27,
          28,
          29,
          30,
          31,
          32,
          33,
          34,
          35,
          36,
          37,
          38,
          39,
          40,
          41,
          42,
          43,
          44,
          45,
          46,
          47,
          48,
          49,
          50,
          51,
          52,
          53,
          54,
          55,
          56,
          57,
          58,
          59,
          60,
          61,
          62,
          63,
          64,
          65,
          66,
          67,
          68,
          69,
          70,
          71,
          72,
          73,
          74,
          75,
          76,
          77,
          78,
          79,
          80,
          81,
          82,
          83,
          84,
          85,
          86,
          87,
          88,
          89,
          90,
          91,
          92,
          93,
          94,
          95,
          96,
          97,
          98,
          99,
          100,
          101,
          102,
          103,
          104,
          105,
          106,
          107,
          108,
          109,
          110,
          111,
          112,
          113,
          114,
          115,
          116,
          117,
          118,
          119,
          120,
          121,
          122,
          123,
          124,
          125,
          126,
          127,
          128,
          129,
          130,
          131,
          132,
          133,
          134,
          135,
          136,
          137,
          138,
          139,
          140,
          141,
          142,
          143,
          144,
          145,
          146,
          147,
          148,
          149,
          150
         ],
         "xaxis": "x",
         "y": [
          0.08031696173026287,
          0.14801477162959542,
          0.17811149042640717,
          0.20731317155626347,
          0.22532827477823936,
          0.24178327339494005,
          0.25644078674492216,
          0.2712056643453348,
          0.28361341445554195,
          0.2962501973865195,
          0.30784620489132375,
          0.31955103154109593,
          0.33066872474483866,
          0.3403472315468192,
          0.35093633937972774,
          0.36122427548167924,
          0.37252604772932013,
          0.38333283069929525,
          0.39162364864726673,
          0.4000460384595021,
          0.4103011262322126,
          0.4213169123836215,
          0.4302909305382365,
          0.4385437010579284,
          0.44768752794816535,
          0.4567340997671714,
          0.4674753098568665,
          0.4756176444276715,
          0.4848895730659562,
          0.49290620146055514,
          0.5026284750688,
          0.5105509109293529,
          0.520199959498861,
          0.5283497196633369,
          0.5377256764729725,
          0.5456381080684433,
          0.5537272900753828,
          0.5621318178043047,
          0.5707876234714019,
          0.5794547760253161,
          0.5872435951990956,
          0.5941180970749954,
          0.604681191105664,
          0.6131364333104957,
          0.6198880739728004,
          0.6274839237378884,
          0.6367505191164113,
          0.6440614737470491,
          0.6517117743319131,
          0.6597542211344972,
          0.6674204909018804,
          0.674419775061096,
          0.6832360874509532,
          0.6896037467756003,
          0.6985158874151816,
          0.7049631557394795,
          0.7131339534689155,
          0.7205323867281748,
          0.7288534315233426,
          0.7343365902254338,
          0.7444043761173829,
          0.7502169968159287,
          0.7571707568305143,
          0.7656617875710016,
          0.7713783118066793,
          0.7791197399456542,
          0.7857661589712284,
          0.7927497516691849,
          0.800065816556498,
          0.8073806131821198,
          0.8143637910497818,
          0.820984354786187,
          0.8272504442543097,
          0.8337653937763315,
          0.840286717242371,
          0.8478874143340681,
          0.8543304263023456,
          0.8609555403411704,
          0.8673115602176614,
          0.8726855978397725,
          0.8795650522244076,
          0.8861542902240981,
          0.892461191824357,
          0.8979472672851411,
          0.9036884147619343,
          0.9105269859602193,
          0.9160709863022625,
          0.9219880168912198,
          0.9281351363307097,
          0.9333892143346763,
          0.9384529051535336,
          0.9442304929581972,
          0.949520536323677,
          0.9549224871261197,
          0.9597262547773684,
          0.9643494302825006,
          0.9688732433372425,
          0.973361529211612,
          0.9777724620411833,
          0.9819325255464497,
          0.9859220889120176,
          0.9893211432126789,
          0.9926185959767788,
          0.9959086827150786,
          0.9980182125797366,
          1.0000000000000002,
          0.9999999999999998,
          0.9999999999999994,
          1,
          1.0000000000000002,
          1,
          1.0000000000000002,
          1.0000000000000002,
          1.0000000000000002,
          1.0000000000000004,
          1.0000000000000002,
          1,
          0.9999999999999996,
          1,
          1,
          1.0000000000000002,
          1.0000000000000004,
          0.9999999999999993,
          1.0000000000000002,
          1,
          1.0000000000000002,
          0.9999999999999999,
          1,
          1.0000000000000002,
          0.9999999999999993,
          1.0000000000000002,
          1,
          1,
          0.9999999999999998,
          1.0000000000000004,
          0.9999999999999993,
          1,
          0.9999999999999997,
          0.9999999999999997,
          1,
          0.9999999999999993,
          1,
          0.9999999999999998,
          0.9999999999999997,
          0.9999999999999998,
          0.9999999999999999,
          0.9999999999999996,
          0.9999999999999998,
          1.0000000000000002,
          1.0000000000000002
         ],
         "yaxis": "y"
        }
       ],
       "layout": {
        "legend": {
         "tracegroupgap": 0
        },
        "margin": {
         "t": 60
        },
        "template": {
         "data": {
          "bar": [
           {
            "error_x": {
             "color": "#2a3f5f"
            },
            "error_y": {
             "color": "#2a3f5f"
            },
            "marker": {
             "line": {
              "color": "#E5ECF6",
              "width": 0.5
             },
             "pattern": {
              "fillmode": "overlay",
              "size": 10,
              "solidity": 0.2
             }
            },
            "type": "bar"
           }
          ],
          "barpolar": [
           {
            "marker": {
             "line": {
              "color": "#E5ECF6",
              "width": 0.5
             },
             "pattern": {
              "fillmode": "overlay",
              "size": 10,
              "solidity": 0.2
             }
            },
            "type": "barpolar"
           }
          ],
          "carpet": [
           {
            "aaxis": {
             "endlinecolor": "#2a3f5f",
             "gridcolor": "white",
             "linecolor": "white",
             "minorgridcolor": "white",
             "startlinecolor": "#2a3f5f"
            },
            "baxis": {
             "endlinecolor": "#2a3f5f",
             "gridcolor": "white",
             "linecolor": "white",
             "minorgridcolor": "white",
             "startlinecolor": "#2a3f5f"
            },
            "type": "carpet"
           }
          ],
          "choropleth": [
           {
            "colorbar": {
             "outlinewidth": 0,
             "ticks": ""
            },
            "type": "choropleth"
           }
          ],
          "contour": [
           {
            "colorbar": {
             "outlinewidth": 0,
             "ticks": ""
            },
            "colorscale": [
             [
              0,
              "#0d0887"
             ],
             [
              0.1111111111111111,
              "#46039f"
             ],
             [
              0.2222222222222222,
              "#7201a8"
             ],
             [
              0.3333333333333333,
              "#9c179e"
             ],
             [
              0.4444444444444444,
              "#bd3786"
             ],
             [
              0.5555555555555556,
              "#d8576b"
             ],
             [
              0.6666666666666666,
              "#ed7953"
             ],
             [
              0.7777777777777778,
              "#fb9f3a"
             ],
             [
              0.8888888888888888,
              "#fdca26"
             ],
             [
              1,
              "#f0f921"
             ]
            ],
            "type": "contour"
           }
          ],
          "contourcarpet": [
           {
            "colorbar": {
             "outlinewidth": 0,
             "ticks": ""
            },
            "type": "contourcarpet"
           }
          ],
          "heatmap": [
           {
            "colorbar": {
             "outlinewidth": 0,
             "ticks": ""
            },
            "colorscale": [
             [
              0,
              "#0d0887"
             ],
             [
              0.1111111111111111,
              "#46039f"
             ],
             [
              0.2222222222222222,
              "#7201a8"
             ],
             [
              0.3333333333333333,
              "#9c179e"
             ],
             [
              0.4444444444444444,
              "#bd3786"
             ],
             [
              0.5555555555555556,
              "#d8576b"
             ],
             [
              0.6666666666666666,
              "#ed7953"
             ],
             [
              0.7777777777777778,
              "#fb9f3a"
             ],
             [
              0.8888888888888888,
              "#fdca26"
             ],
             [
              1,
              "#f0f921"
             ]
            ],
            "type": "heatmap"
           }
          ],
          "heatmapgl": [
           {
            "colorbar": {
             "outlinewidth": 0,
             "ticks": ""
            },
            "colorscale": [
             [
              0,
              "#0d0887"
             ],
             [
              0.1111111111111111,
              "#46039f"
             ],
             [
              0.2222222222222222,
              "#7201a8"
             ],
             [
              0.3333333333333333,
              "#9c179e"
             ],
             [
              0.4444444444444444,
              "#bd3786"
             ],
             [
              0.5555555555555556,
              "#d8576b"
             ],
             [
              0.6666666666666666,
              "#ed7953"
             ],
             [
              0.7777777777777778,
              "#fb9f3a"
             ],
             [
              0.8888888888888888,
              "#fdca26"
             ],
             [
              1,
              "#f0f921"
             ]
            ],
            "type": "heatmapgl"
           }
          ],
          "histogram": [
           {
            "marker": {
             "pattern": {
              "fillmode": "overlay",
              "size": 10,
              "solidity": 0.2
             }
            },
            "type": "histogram"
           }
          ],
          "histogram2d": [
           {
            "colorbar": {
             "outlinewidth": 0,
             "ticks": ""
            },
            "colorscale": [
             [
              0,
              "#0d0887"
             ],
             [
              0.1111111111111111,
              "#46039f"
             ],
             [
              0.2222222222222222,
              "#7201a8"
             ],
             [
              0.3333333333333333,
              "#9c179e"
             ],
             [
              0.4444444444444444,
              "#bd3786"
             ],
             [
              0.5555555555555556,
              "#d8576b"
             ],
             [
              0.6666666666666666,
              "#ed7953"
             ],
             [
              0.7777777777777778,
              "#fb9f3a"
             ],
             [
              0.8888888888888888,
              "#fdca26"
             ],
             [
              1,
              "#f0f921"
             ]
            ],
            "type": "histogram2d"
           }
          ],
          "histogram2dcontour": [
           {
            "colorbar": {
             "outlinewidth": 0,
             "ticks": ""
            },
            "colorscale": [
             [
              0,
              "#0d0887"
             ],
             [
              0.1111111111111111,
              "#46039f"
             ],
             [
              0.2222222222222222,
              "#7201a8"
             ],
             [
              0.3333333333333333,
              "#9c179e"
             ],
             [
              0.4444444444444444,
              "#bd3786"
             ],
             [
              0.5555555555555556,
              "#d8576b"
             ],
             [
              0.6666666666666666,
              "#ed7953"
             ],
             [
              0.7777777777777778,
              "#fb9f3a"
             ],
             [
              0.8888888888888888,
              "#fdca26"
             ],
             [
              1,
              "#f0f921"
             ]
            ],
            "type": "histogram2dcontour"
           }
          ],
          "mesh3d": [
           {
            "colorbar": {
             "outlinewidth": 0,
             "ticks": ""
            },
            "type": "mesh3d"
           }
          ],
          "parcoords": [
           {
            "line": {
             "colorbar": {
              "outlinewidth": 0,
              "ticks": ""
             }
            },
            "type": "parcoords"
           }
          ],
          "pie": [
           {
            "automargin": true,
            "type": "pie"
           }
          ],
          "scatter": [
           {
            "marker": {
             "colorbar": {
              "outlinewidth": 0,
              "ticks": ""
             }
            },
            "type": "scatter"
           }
          ],
          "scatter3d": [
           {
            "line": {
             "colorbar": {
              "outlinewidth": 0,
              "ticks": ""
             }
            },
            "marker": {
             "colorbar": {
              "outlinewidth": 0,
              "ticks": ""
             }
            },
            "type": "scatter3d"
           }
          ],
          "scattercarpet": [
           {
            "marker": {
             "colorbar": {
              "outlinewidth": 0,
              "ticks": ""
             }
            },
            "type": "scattercarpet"
           }
          ],
          "scattergeo": [
           {
            "marker": {
             "colorbar": {
              "outlinewidth": 0,
              "ticks": ""
             }
            },
            "type": "scattergeo"
           }
          ],
          "scattergl": [
           {
            "marker": {
             "colorbar": {
              "outlinewidth": 0,
              "ticks": ""
             }
            },
            "type": "scattergl"
           }
          ],
          "scattermapbox": [
           {
            "marker": {
             "colorbar": {
              "outlinewidth": 0,
              "ticks": ""
             }
            },
            "type": "scattermapbox"
           }
          ],
          "scatterpolar": [
           {
            "marker": {
             "colorbar": {
              "outlinewidth": 0,
              "ticks": ""
             }
            },
            "type": "scatterpolar"
           }
          ],
          "scatterpolargl": [
           {
            "marker": {
             "colorbar": {
              "outlinewidth": 0,
              "ticks": ""
             }
            },
            "type": "scatterpolargl"
           }
          ],
          "scatterternary": [
           {
            "marker": {
             "colorbar": {
              "outlinewidth": 0,
              "ticks": ""
             }
            },
            "type": "scatterternary"
           }
          ],
          "surface": [
           {
            "colorbar": {
             "outlinewidth": 0,
             "ticks": ""
            },
            "colorscale": [
             [
              0,
              "#0d0887"
             ],
             [
              0.1111111111111111,
              "#46039f"
             ],
             [
              0.2222222222222222,
              "#7201a8"
             ],
             [
              0.3333333333333333,
              "#9c179e"
             ],
             [
              0.4444444444444444,
              "#bd3786"
             ],
             [
              0.5555555555555556,
              "#d8576b"
             ],
             [
              0.6666666666666666,
              "#ed7953"
             ],
             [
              0.7777777777777778,
              "#fb9f3a"
             ],
             [
              0.8888888888888888,
              "#fdca26"
             ],
             [
              1,
              "#f0f921"
             ]
            ],
            "type": "surface"
           }
          ],
          "table": [
           {
            "cells": {
             "fill": {
              "color": "#EBF0F8"
             },
             "line": {
              "color": "white"
             }
            },
            "header": {
             "fill": {
              "color": "#C8D4E3"
             },
             "line": {
              "color": "white"
             }
            },
            "type": "table"
           }
          ]
         },
         "layout": {
          "annotationdefaults": {
           "arrowcolor": "#2a3f5f",
           "arrowhead": 0,
           "arrowwidth": 1
          },
          "autotypenumbers": "strict",
          "coloraxis": {
           "colorbar": {
            "outlinewidth": 0,
            "ticks": ""
           }
          },
          "colorscale": {
           "diverging": [
            [
             0,
             "#8e0152"
            ],
            [
             0.1,
             "#c51b7d"
            ],
            [
             0.2,
             "#de77ae"
            ],
            [
             0.3,
             "#f1b6da"
            ],
            [
             0.4,
             "#fde0ef"
            ],
            [
             0.5,
             "#f7f7f7"
            ],
            [
             0.6,
             "#e6f5d0"
            ],
            [
             0.7,
             "#b8e186"
            ],
            [
             0.8,
             "#7fbc41"
            ],
            [
             0.9,
             "#4d9221"
            ],
            [
             1,
             "#276419"
            ]
           ],
           "sequential": [
            [
             0,
             "#0d0887"
            ],
            [
             0.1111111111111111,
             "#46039f"
            ],
            [
             0.2222222222222222,
             "#7201a8"
            ],
            [
             0.3333333333333333,
             "#9c179e"
            ],
            [
             0.4444444444444444,
             "#bd3786"
            ],
            [
             0.5555555555555556,
             "#d8576b"
            ],
            [
             0.6666666666666666,
             "#ed7953"
            ],
            [
             0.7777777777777778,
             "#fb9f3a"
            ],
            [
             0.8888888888888888,
             "#fdca26"
            ],
            [
             1,
             "#f0f921"
            ]
           ],
           "sequentialminus": [
            [
             0,
             "#0d0887"
            ],
            [
             0.1111111111111111,
             "#46039f"
            ],
            [
             0.2222222222222222,
             "#7201a8"
            ],
            [
             0.3333333333333333,
             "#9c179e"
            ],
            [
             0.4444444444444444,
             "#bd3786"
            ],
            [
             0.5555555555555556,
             "#d8576b"
            ],
            [
             0.6666666666666666,
             "#ed7953"
            ],
            [
             0.7777777777777778,
             "#fb9f3a"
            ],
            [
             0.8888888888888888,
             "#fdca26"
            ],
            [
             1,
             "#f0f921"
            ]
           ]
          },
          "colorway": [
           "#636efa",
           "#EF553B",
           "#00cc96",
           "#ab63fa",
           "#FFA15A",
           "#19d3f3",
           "#FF6692",
           "#B6E880",
           "#FF97FF",
           "#FECB52"
          ],
          "font": {
           "color": "#2a3f5f"
          },
          "geo": {
           "bgcolor": "white",
           "lakecolor": "white",
           "landcolor": "#E5ECF6",
           "showlakes": true,
           "showland": true,
           "subunitcolor": "white"
          },
          "hoverlabel": {
           "align": "left"
          },
          "hovermode": "closest",
          "mapbox": {
           "style": "light"
          },
          "paper_bgcolor": "white",
          "plot_bgcolor": "#E5ECF6",
          "polar": {
           "angularaxis": {
            "gridcolor": "white",
            "linecolor": "white",
            "ticks": ""
           },
           "bgcolor": "#E5ECF6",
           "radialaxis": {
            "gridcolor": "white",
            "linecolor": "white",
            "ticks": ""
           }
          },
          "scene": {
           "xaxis": {
            "backgroundcolor": "#E5ECF6",
            "gridcolor": "white",
            "gridwidth": 2,
            "linecolor": "white",
            "showbackground": true,
            "ticks": "",
            "zerolinecolor": "white"
           },
           "yaxis": {
            "backgroundcolor": "#E5ECF6",
            "gridcolor": "white",
            "gridwidth": 2,
            "linecolor": "white",
            "showbackground": true,
            "ticks": "",
            "zerolinecolor": "white"
           },
           "zaxis": {
            "backgroundcolor": "#E5ECF6",
            "gridcolor": "white",
            "gridwidth": 2,
            "linecolor": "white",
            "showbackground": true,
            "ticks": "",
            "zerolinecolor": "white"
           }
          },
          "shapedefaults": {
           "line": {
            "color": "#2a3f5f"
           }
          },
          "ternary": {
           "aaxis": {
            "gridcolor": "white",
            "linecolor": "white",
            "ticks": ""
           },
           "baxis": {
            "gridcolor": "white",
            "linecolor": "white",
            "ticks": ""
           },
           "bgcolor": "#E5ECF6",
           "caxis": {
            "gridcolor": "white",
            "linecolor": "white",
            "ticks": ""
           }
          },
          "title": {
           "x": 0.05
          },
          "xaxis": {
           "automargin": true,
           "gridcolor": "white",
           "linecolor": "white",
           "ticks": "",
           "title": {
            "standoff": 15
           },
           "zerolinecolor": "white",
           "zerolinewidth": 2
          },
          "yaxis": {
           "automargin": true,
           "gridcolor": "white",
           "linecolor": "white",
           "ticks": "",
           "title": {
            "standoff": 15
           },
           "zerolinecolor": "white",
           "zerolinewidth": 2
          }
         }
        },
        "xaxis": {
         "anchor": "y",
         "domain": [
          0,
          1
         ],
         "title": {
          "text": "num_components"
         }
        },
        "yaxis": {
         "anchor": "x",
         "domain": [
          0,
          1
         ],
         "title": {
          "text": "explained_variance"
         }
        }
       }
      }
     },
     "metadata": {},
     "output_type": "display_data"
    },
    {
     "data": {
      "text/html": [
       "<div>\n",
       "<style scoped>\n",
       "    .dataframe tbody tr th:only-of-type {\n",
       "        vertical-align: middle;\n",
       "    }\n",
       "\n",
       "    .dataframe tbody tr th {\n",
       "        vertical-align: top;\n",
       "    }\n",
       "\n",
       "    .dataframe thead th {\n",
       "        text-align: right;\n",
       "    }\n",
       "</style>\n",
       "<table border=\"1\" class=\"dataframe\">\n",
       "  <thead>\n",
       "    <tr style=\"text-align: right;\">\n",
       "      <th></th>\n",
       "      <th>num_components</th>\n",
       "      <th>explained_variance</th>\n",
       "    </tr>\n",
       "  </thead>\n",
       "  <tbody>\n",
       "    <tr>\n",
       "      <th>114</th>\n",
       "      <td>115.0</td>\n",
       "      <td>1.0</td>\n",
       "    </tr>\n",
       "    <tr>\n",
       "      <th>121</th>\n",
       "      <td>122.0</td>\n",
       "      <td>1.0</td>\n",
       "    </tr>\n",
       "    <tr>\n",
       "      <th>134</th>\n",
       "      <td>135.0</td>\n",
       "      <td>1.0</td>\n",
       "    </tr>\n",
       "  </tbody>\n",
       "</table>\n",
       "</div>"
      ],
      "text/plain": [
       "     num_components  explained_variance\n",
       "114           115.0                 1.0\n",
       "121           122.0                 1.0\n",
       "134           135.0                 1.0"
      ]
     },
     "execution_count": 12,
     "metadata": {},
     "output_type": "execute_result"
    }
   ],
   "source": [
    "from prince import FAMD\n",
    "import plotly.express as px\n",
    "\n",
    "# Find optimal number of components for FAMD\n",
    "optimal_components = pd.DataFrame(columns = ['num_components', 'explained_variance'])\n",
    "\n",
    "for i in range(1, 151):\n",
    "    \n",
    "    # Get val of x\n",
    "    num_components = i\n",
    "    \n",
    "    # Initialize FAMD\n",
    "    famd = FAMD(n_components = i, n_iter = 3, random_state = 42)\n",
    "    famd.fit_transform(X_train)\n",
    "    \n",
    "    # Calculate explained variance\n",
    "    explained_variance = famd.explained_inertia_.sum()\n",
    "    \n",
    "    # Insert into dataframe\n",
    "    row = {'num_components': num_components, 'explained_variance' : explained_variance}\n",
    "    optimal_components = optimal_components.append(row, ignore_index = True)\n",
    "    \n",
    "fig = px.scatter(optimal_components, x = 'num_components', y = 'explained_variance')\n",
    "fig.show()\n",
    "\n",
    "# Print max \n",
    "optimal_components.loc[optimal_components['explained_variance'] == optimal_components['explained_variance'].max()]"
   ]
  },
  {
   "cell_type": "code",
   "execution_count": 13,
   "id": "41b5c9a4",
   "metadata": {},
   "outputs": [],
   "source": [
    "# Initialize FAMD\n",
    "famd = FAMD(n_components = 120, n_iter = 3, random_state = 42)\n",
    "famd.fit_transform(X_train)\n",
    "\n",
    "famd_explained_variance = famd.explained_inertia_\n",
    "df_famd_explained = pd.DataFrame(famd_explained_variance)\n",
    "df_famd_explained['component'] = list(range(1, 121))\n",
    "df_famd_explained.columns = ['explained_variance', 'component']"
   ]
  },
  {
   "cell_type": "code",
   "execution_count": 14,
   "id": "426499d0",
   "metadata": {},
   "outputs": [
    {
     "data": {
      "application/vnd.plotly.v1+json": {
       "config": {
        "plotlyServerURL": "https://plot.ly"
       },
       "data": [
        {
         "alignmentgroup": "True",
         "hovertemplate": "component=%{x}<br>explained_variance=%{y}<extra></extra>",
         "legendgroup": "",
         "marker": {
          "color": "#636efa",
          "pattern": {
           "shape": ""
          }
         },
         "name": "",
         "offsetgroup": "",
         "orientation": "v",
         "showlegend": false,
         "textposition": "auto",
         "type": "bar",
         "x": [
          1,
          2,
          3,
          4,
          5,
          6,
          7,
          8,
          9,
          10,
          11,
          12,
          13,
          14,
          15,
          16,
          17,
          18,
          19,
          20,
          21,
          22,
          23,
          24,
          25,
          26,
          27,
          28,
          29,
          30,
          31,
          32,
          33,
          34,
          35,
          36,
          37,
          38,
          39,
          40,
          41,
          42,
          43,
          44,
          45,
          46,
          47,
          48,
          49,
          50,
          51,
          52,
          53,
          54,
          55,
          56,
          57,
          58,
          59,
          60,
          61,
          62,
          63,
          64,
          65,
          66,
          67,
          68,
          69,
          70,
          71,
          72,
          73,
          74,
          75,
          76,
          77,
          78,
          79,
          80,
          81,
          82,
          83,
          84,
          85,
          86,
          87,
          88,
          89,
          90,
          91,
          92,
          93,
          94,
          95,
          96,
          97,
          98,
          99,
          100,
          101,
          102,
          103,
          104,
          105,
          106,
          107,
          108,
          109,
          110,
          111,
          112,
          113,
          114,
          115,
          116,
          117,
          118,
          119,
          120
         ],
         "xaxis": "x",
         "y": [
          0.08037006906949082,
          0.06778925421286502,
          0.03027697205875846,
          0.029061944389678736,
          0.018644700408271916,
          0.016905894420306506,
          0.01540835038919921,
          0.014828270689528206,
          0.013193085558039807,
          0.01295562905097999,
          0.012525054876769408,
          0.012216284244308167,
          0.011849089604308884,
          0.011326055288718828,
          0.011098079245890787,
          0.010550635289188672,
          0.010397218204149251,
          0.010275775084109389,
          0.010179263767429048,
          0.010031157693301124,
          0.009796335079992106,
          0.009745055956588604,
          0.009669021289415155,
          0.009571219234419438,
          0.00942348907508805,
          0.009416024561815483,
          0.009315493844324998,
          0.009243143136349387,
          0.00921359368181014,
          0.009168870457944287,
          0.008975920682003133,
          0.008915436055626837,
          0.008884216769184019,
          0.008774765847111057,
          0.008656459269707786,
          0.00859818237795443,
          0.008546246025027788,
          0.008492955815809111,
          0.008423096424804221,
          0.00838893926822594,
          0.00834302440276071,
          0.008229648612888317,
          0.00821283270383033,
          0.008106892179948103,
          0.0080271034095523,
          0.00798387277673781,
          0.007925751750441624,
          0.007877468839420816,
          0.007821833397428351,
          0.007726533144088611,
          0.007719070758259459,
          0.007630018846480652,
          0.007543418717241016,
          0.007529192090826653,
          0.007461294000578978,
          0.007412152856608718,
          0.007353728258097776,
          0.007338446355518098,
          0.007247189190645826,
          0.007181725195016041,
          0.007118901279919487,
          0.007101550195160101,
          0.007070485528186187,
          0.006979686095594997,
          0.006947158258904445,
          0.006909485943366476,
          0.006858358788229607,
          0.006824886532510392,
          0.0067760871602349825,
          0.006751131965367151,
          0.006599759513522747,
          0.006573529850875719,
          0.006402013793501257,
          0.006396573305898849,
          0.0063524802853336,
          0.006307310062473709,
          0.00625928172607172,
          0.006212832729157194,
          0.0060974303368895805,
          0.006064802836602062,
          0.006008650544288585,
          0.0059354148723676885,
          0.005840636939740094,
          0.005732327255194337,
          0.005650951713736691,
          0.005608024191136399,
          0.00553337141273262,
          0.005449197974949946,
          0.005386600972701642,
          0.00524232531721654,
          0.005140979604391601,
          0.005102657781727665,
          0.005035513478072833,
          0.00492131845455293,
          0.004813336438417497,
          0.004571931258608913,
          0.004523813054741854,
          0.0044882858743696165,
          0.004410932829571266,
          0.0041600635052668564,
          0.00398956336556713,
          0.003399054300661698,
          0.0032974527640998725,
          0.0032900867382997237,
          0.002109529864657516,
          0.0019817874202638515,
          1.5844484561047195e-32,
          7.934554691414971e-34,
          7.934554691414971e-34,
          7.934554691414971e-34,
          7.934554691414971e-34,
          7.934554691414971e-34,
          7.934554691414971e-34,
          7.934554691414971e-34,
          7.934554691414971e-34,
          7.934554691414971e-34,
          7.934554691414971e-34,
          7.934554691414971e-34,
          7.934554691414971e-34,
          7.934554691414971e-34
         ],
         "yaxis": "y"
        }
       ],
       "layout": {
        "barmode": "relative",
        "legend": {
         "tracegroupgap": 0
        },
        "margin": {
         "t": 60
        },
        "template": {
         "data": {
          "bar": [
           {
            "error_x": {
             "color": "#2a3f5f"
            },
            "error_y": {
             "color": "#2a3f5f"
            },
            "marker": {
             "line": {
              "color": "#E5ECF6",
              "width": 0.5
             },
             "pattern": {
              "fillmode": "overlay",
              "size": 10,
              "solidity": 0.2
             }
            },
            "type": "bar"
           }
          ],
          "barpolar": [
           {
            "marker": {
             "line": {
              "color": "#E5ECF6",
              "width": 0.5
             },
             "pattern": {
              "fillmode": "overlay",
              "size": 10,
              "solidity": 0.2
             }
            },
            "type": "barpolar"
           }
          ],
          "carpet": [
           {
            "aaxis": {
             "endlinecolor": "#2a3f5f",
             "gridcolor": "white",
             "linecolor": "white",
             "minorgridcolor": "white",
             "startlinecolor": "#2a3f5f"
            },
            "baxis": {
             "endlinecolor": "#2a3f5f",
             "gridcolor": "white",
             "linecolor": "white",
             "minorgridcolor": "white",
             "startlinecolor": "#2a3f5f"
            },
            "type": "carpet"
           }
          ],
          "choropleth": [
           {
            "colorbar": {
             "outlinewidth": 0,
             "ticks": ""
            },
            "type": "choropleth"
           }
          ],
          "contour": [
           {
            "colorbar": {
             "outlinewidth": 0,
             "ticks": ""
            },
            "colorscale": [
             [
              0,
              "#0d0887"
             ],
             [
              0.1111111111111111,
              "#46039f"
             ],
             [
              0.2222222222222222,
              "#7201a8"
             ],
             [
              0.3333333333333333,
              "#9c179e"
             ],
             [
              0.4444444444444444,
              "#bd3786"
             ],
             [
              0.5555555555555556,
              "#d8576b"
             ],
             [
              0.6666666666666666,
              "#ed7953"
             ],
             [
              0.7777777777777778,
              "#fb9f3a"
             ],
             [
              0.8888888888888888,
              "#fdca26"
             ],
             [
              1,
              "#f0f921"
             ]
            ],
            "type": "contour"
           }
          ],
          "contourcarpet": [
           {
            "colorbar": {
             "outlinewidth": 0,
             "ticks": ""
            },
            "type": "contourcarpet"
           }
          ],
          "heatmap": [
           {
            "colorbar": {
             "outlinewidth": 0,
             "ticks": ""
            },
            "colorscale": [
             [
              0,
              "#0d0887"
             ],
             [
              0.1111111111111111,
              "#46039f"
             ],
             [
              0.2222222222222222,
              "#7201a8"
             ],
             [
              0.3333333333333333,
              "#9c179e"
             ],
             [
              0.4444444444444444,
              "#bd3786"
             ],
             [
              0.5555555555555556,
              "#d8576b"
             ],
             [
              0.6666666666666666,
              "#ed7953"
             ],
             [
              0.7777777777777778,
              "#fb9f3a"
             ],
             [
              0.8888888888888888,
              "#fdca26"
             ],
             [
              1,
              "#f0f921"
             ]
            ],
            "type": "heatmap"
           }
          ],
          "heatmapgl": [
           {
            "colorbar": {
             "outlinewidth": 0,
             "ticks": ""
            },
            "colorscale": [
             [
              0,
              "#0d0887"
             ],
             [
              0.1111111111111111,
              "#46039f"
             ],
             [
              0.2222222222222222,
              "#7201a8"
             ],
             [
              0.3333333333333333,
              "#9c179e"
             ],
             [
              0.4444444444444444,
              "#bd3786"
             ],
             [
              0.5555555555555556,
              "#d8576b"
             ],
             [
              0.6666666666666666,
              "#ed7953"
             ],
             [
              0.7777777777777778,
              "#fb9f3a"
             ],
             [
              0.8888888888888888,
              "#fdca26"
             ],
             [
              1,
              "#f0f921"
             ]
            ],
            "type": "heatmapgl"
           }
          ],
          "histogram": [
           {
            "marker": {
             "pattern": {
              "fillmode": "overlay",
              "size": 10,
              "solidity": 0.2
             }
            },
            "type": "histogram"
           }
          ],
          "histogram2d": [
           {
            "colorbar": {
             "outlinewidth": 0,
             "ticks": ""
            },
            "colorscale": [
             [
              0,
              "#0d0887"
             ],
             [
              0.1111111111111111,
              "#46039f"
             ],
             [
              0.2222222222222222,
              "#7201a8"
             ],
             [
              0.3333333333333333,
              "#9c179e"
             ],
             [
              0.4444444444444444,
              "#bd3786"
             ],
             [
              0.5555555555555556,
              "#d8576b"
             ],
             [
              0.6666666666666666,
              "#ed7953"
             ],
             [
              0.7777777777777778,
              "#fb9f3a"
             ],
             [
              0.8888888888888888,
              "#fdca26"
             ],
             [
              1,
              "#f0f921"
             ]
            ],
            "type": "histogram2d"
           }
          ],
          "histogram2dcontour": [
           {
            "colorbar": {
             "outlinewidth": 0,
             "ticks": ""
            },
            "colorscale": [
             [
              0,
              "#0d0887"
             ],
             [
              0.1111111111111111,
              "#46039f"
             ],
             [
              0.2222222222222222,
              "#7201a8"
             ],
             [
              0.3333333333333333,
              "#9c179e"
             ],
             [
              0.4444444444444444,
              "#bd3786"
             ],
             [
              0.5555555555555556,
              "#d8576b"
             ],
             [
              0.6666666666666666,
              "#ed7953"
             ],
             [
              0.7777777777777778,
              "#fb9f3a"
             ],
             [
              0.8888888888888888,
              "#fdca26"
             ],
             [
              1,
              "#f0f921"
             ]
            ],
            "type": "histogram2dcontour"
           }
          ],
          "mesh3d": [
           {
            "colorbar": {
             "outlinewidth": 0,
             "ticks": ""
            },
            "type": "mesh3d"
           }
          ],
          "parcoords": [
           {
            "line": {
             "colorbar": {
              "outlinewidth": 0,
              "ticks": ""
             }
            },
            "type": "parcoords"
           }
          ],
          "pie": [
           {
            "automargin": true,
            "type": "pie"
           }
          ],
          "scatter": [
           {
            "marker": {
             "colorbar": {
              "outlinewidth": 0,
              "ticks": ""
             }
            },
            "type": "scatter"
           }
          ],
          "scatter3d": [
           {
            "line": {
             "colorbar": {
              "outlinewidth": 0,
              "ticks": ""
             }
            },
            "marker": {
             "colorbar": {
              "outlinewidth": 0,
              "ticks": ""
             }
            },
            "type": "scatter3d"
           }
          ],
          "scattercarpet": [
           {
            "marker": {
             "colorbar": {
              "outlinewidth": 0,
              "ticks": ""
             }
            },
            "type": "scattercarpet"
           }
          ],
          "scattergeo": [
           {
            "marker": {
             "colorbar": {
              "outlinewidth": 0,
              "ticks": ""
             }
            },
            "type": "scattergeo"
           }
          ],
          "scattergl": [
           {
            "marker": {
             "colorbar": {
              "outlinewidth": 0,
              "ticks": ""
             }
            },
            "type": "scattergl"
           }
          ],
          "scattermapbox": [
           {
            "marker": {
             "colorbar": {
              "outlinewidth": 0,
              "ticks": ""
             }
            },
            "type": "scattermapbox"
           }
          ],
          "scatterpolar": [
           {
            "marker": {
             "colorbar": {
              "outlinewidth": 0,
              "ticks": ""
             }
            },
            "type": "scatterpolar"
           }
          ],
          "scatterpolargl": [
           {
            "marker": {
             "colorbar": {
              "outlinewidth": 0,
              "ticks": ""
             }
            },
            "type": "scatterpolargl"
           }
          ],
          "scatterternary": [
           {
            "marker": {
             "colorbar": {
              "outlinewidth": 0,
              "ticks": ""
             }
            },
            "type": "scatterternary"
           }
          ],
          "surface": [
           {
            "colorbar": {
             "outlinewidth": 0,
             "ticks": ""
            },
            "colorscale": [
             [
              0,
              "#0d0887"
             ],
             [
              0.1111111111111111,
              "#46039f"
             ],
             [
              0.2222222222222222,
              "#7201a8"
             ],
             [
              0.3333333333333333,
              "#9c179e"
             ],
             [
              0.4444444444444444,
              "#bd3786"
             ],
             [
              0.5555555555555556,
              "#d8576b"
             ],
             [
              0.6666666666666666,
              "#ed7953"
             ],
             [
              0.7777777777777778,
              "#fb9f3a"
             ],
             [
              0.8888888888888888,
              "#fdca26"
             ],
             [
              1,
              "#f0f921"
             ]
            ],
            "type": "surface"
           }
          ],
          "table": [
           {
            "cells": {
             "fill": {
              "color": "#EBF0F8"
             },
             "line": {
              "color": "white"
             }
            },
            "header": {
             "fill": {
              "color": "#C8D4E3"
             },
             "line": {
              "color": "white"
             }
            },
            "type": "table"
           }
          ]
         },
         "layout": {
          "annotationdefaults": {
           "arrowcolor": "#2a3f5f",
           "arrowhead": 0,
           "arrowwidth": 1
          },
          "autotypenumbers": "strict",
          "coloraxis": {
           "colorbar": {
            "outlinewidth": 0,
            "ticks": ""
           }
          },
          "colorscale": {
           "diverging": [
            [
             0,
             "#8e0152"
            ],
            [
             0.1,
             "#c51b7d"
            ],
            [
             0.2,
             "#de77ae"
            ],
            [
             0.3,
             "#f1b6da"
            ],
            [
             0.4,
             "#fde0ef"
            ],
            [
             0.5,
             "#f7f7f7"
            ],
            [
             0.6,
             "#e6f5d0"
            ],
            [
             0.7,
             "#b8e186"
            ],
            [
             0.8,
             "#7fbc41"
            ],
            [
             0.9,
             "#4d9221"
            ],
            [
             1,
             "#276419"
            ]
           ],
           "sequential": [
            [
             0,
             "#0d0887"
            ],
            [
             0.1111111111111111,
             "#46039f"
            ],
            [
             0.2222222222222222,
             "#7201a8"
            ],
            [
             0.3333333333333333,
             "#9c179e"
            ],
            [
             0.4444444444444444,
             "#bd3786"
            ],
            [
             0.5555555555555556,
             "#d8576b"
            ],
            [
             0.6666666666666666,
             "#ed7953"
            ],
            [
             0.7777777777777778,
             "#fb9f3a"
            ],
            [
             0.8888888888888888,
             "#fdca26"
            ],
            [
             1,
             "#f0f921"
            ]
           ],
           "sequentialminus": [
            [
             0,
             "#0d0887"
            ],
            [
             0.1111111111111111,
             "#46039f"
            ],
            [
             0.2222222222222222,
             "#7201a8"
            ],
            [
             0.3333333333333333,
             "#9c179e"
            ],
            [
             0.4444444444444444,
             "#bd3786"
            ],
            [
             0.5555555555555556,
             "#d8576b"
            ],
            [
             0.6666666666666666,
             "#ed7953"
            ],
            [
             0.7777777777777778,
             "#fb9f3a"
            ],
            [
             0.8888888888888888,
             "#fdca26"
            ],
            [
             1,
             "#f0f921"
            ]
           ]
          },
          "colorway": [
           "#636efa",
           "#EF553B",
           "#00cc96",
           "#ab63fa",
           "#FFA15A",
           "#19d3f3",
           "#FF6692",
           "#B6E880",
           "#FF97FF",
           "#FECB52"
          ],
          "font": {
           "color": "#2a3f5f"
          },
          "geo": {
           "bgcolor": "white",
           "lakecolor": "white",
           "landcolor": "#E5ECF6",
           "showlakes": true,
           "showland": true,
           "subunitcolor": "white"
          },
          "hoverlabel": {
           "align": "left"
          },
          "hovermode": "closest",
          "mapbox": {
           "style": "light"
          },
          "paper_bgcolor": "white",
          "plot_bgcolor": "#E5ECF6",
          "polar": {
           "angularaxis": {
            "gridcolor": "white",
            "linecolor": "white",
            "ticks": ""
           },
           "bgcolor": "#E5ECF6",
           "radialaxis": {
            "gridcolor": "white",
            "linecolor": "white",
            "ticks": ""
           }
          },
          "scene": {
           "xaxis": {
            "backgroundcolor": "#E5ECF6",
            "gridcolor": "white",
            "gridwidth": 2,
            "linecolor": "white",
            "showbackground": true,
            "ticks": "",
            "zerolinecolor": "white"
           },
           "yaxis": {
            "backgroundcolor": "#E5ECF6",
            "gridcolor": "white",
            "gridwidth": 2,
            "linecolor": "white",
            "showbackground": true,
            "ticks": "",
            "zerolinecolor": "white"
           },
           "zaxis": {
            "backgroundcolor": "#E5ECF6",
            "gridcolor": "white",
            "gridwidth": 2,
            "linecolor": "white",
            "showbackground": true,
            "ticks": "",
            "zerolinecolor": "white"
           }
          },
          "shapedefaults": {
           "line": {
            "color": "#2a3f5f"
           }
          },
          "ternary": {
           "aaxis": {
            "gridcolor": "white",
            "linecolor": "white",
            "ticks": ""
           },
           "baxis": {
            "gridcolor": "white",
            "linecolor": "white",
            "ticks": ""
           },
           "bgcolor": "#E5ECF6",
           "caxis": {
            "gridcolor": "white",
            "linecolor": "white",
            "ticks": ""
           }
          },
          "title": {
           "x": 0.05
          },
          "xaxis": {
           "automargin": true,
           "gridcolor": "white",
           "linecolor": "white",
           "ticks": "",
           "title": {
            "standoff": 15
           },
           "zerolinecolor": "white",
           "zerolinewidth": 2
          },
          "yaxis": {
           "automargin": true,
           "gridcolor": "white",
           "linecolor": "white",
           "ticks": "",
           "title": {
            "standoff": 15
           },
           "zerolinecolor": "white",
           "zerolinewidth": 2
          }
         }
        },
        "xaxis": {
         "anchor": "y",
         "domain": [
          0,
          1
         ],
         "title": {
          "text": "component"
         }
        },
        "yaxis": {
         "anchor": "x",
         "domain": [
          0,
          1
         ],
         "title": {
          "text": "explained_variance"
         }
        }
       }
      }
     },
     "metadata": {},
     "output_type": "display_data"
    }
   ],
   "source": [
    "# Explained variance for each component\n",
    "\n",
    "fig = px.bar(df_famd_explained, x = 'component', y = 'explained_variance')\n",
    "fig"
   ]
  },
  {
   "cell_type": "code",
   "execution_count": 15,
   "id": "d6823685",
   "metadata": {},
   "outputs": [
    {
     "data": {
      "text/html": [
       "<div>\n",
       "<style scoped>\n",
       "    .dataframe tbody tr th:only-of-type {\n",
       "        vertical-align: middle;\n",
       "    }\n",
       "\n",
       "    .dataframe tbody tr th {\n",
       "        vertical-align: top;\n",
       "    }\n",
       "\n",
       "    .dataframe thead th {\n",
       "        text-align: right;\n",
       "    }\n",
       "</style>\n",
       "<table border=\"1\" class=\"dataframe\">\n",
       "  <thead>\n",
       "    <tr style=\"text-align: right;\">\n",
       "      <th></th>\n",
       "      <th>SEXVAR</th>\n",
       "      <th>_IMPAGE</th>\n",
       "      <th>_IMPRACE</th>\n",
       "      <th>VETERAN3</th>\n",
       "      <th>WTKG3</th>\n",
       "      <th>_IMPMRTL</th>\n",
       "      <th>_RFBMI5</th>\n",
       "      <th>HLTHPLN1</th>\n",
       "      <th>ADDEPEV3</th>\n",
       "      <th>DIABETE4</th>\n",
       "      <th>...</th>\n",
       "      <th>_RFSEAT3</th>\n",
       "      <th>_IMPEDUC</th>\n",
       "      <th>EMPLOY1</th>\n",
       "      <th>_INCOMG</th>\n",
       "      <th>_METSTAT</th>\n",
       "      <th>USENOW3</th>\n",
       "      <th>ECIGARET</th>\n",
       "      <th>_SMOKER3</th>\n",
       "      <th>_RFBING5</th>\n",
       "      <th>CVDCRHD4</th>\n",
       "    </tr>\n",
       "  </thead>\n",
       "  <tbody>\n",
       "    <tr>\n",
       "      <th>0</th>\n",
       "      <td>0</td>\n",
       "      <td>5</td>\n",
       "      <td>1</td>\n",
       "      <td>0</td>\n",
       "      <td>11113.0</td>\n",
       "      <td>1</td>\n",
       "      <td>1</td>\n",
       "      <td>1.0</td>\n",
       "      <td>0.0</td>\n",
       "      <td>0</td>\n",
       "      <td>...</td>\n",
       "      <td>1</td>\n",
       "      <td>5</td>\n",
       "      <td>2</td>\n",
       "      <td>4</td>\n",
       "      <td>1</td>\n",
       "      <td>0</td>\n",
       "      <td>0</td>\n",
       "      <td>0</td>\n",
       "      <td>0</td>\n",
       "      <td>0</td>\n",
       "    </tr>\n",
       "    <tr>\n",
       "      <th>1</th>\n",
       "      <td>0</td>\n",
       "      <td>4</td>\n",
       "      <td>5</td>\n",
       "      <td>0</td>\n",
       "      <td>9525.0</td>\n",
       "      <td>1</td>\n",
       "      <td>1</td>\n",
       "      <td>1.0</td>\n",
       "      <td>0.0</td>\n",
       "      <td>0</td>\n",
       "      <td>...</td>\n",
       "      <td>1</td>\n",
       "      <td>5</td>\n",
       "      <td>2</td>\n",
       "      <td>4</td>\n",
       "      <td>1</td>\n",
       "      <td>0</td>\n",
       "      <td>0</td>\n",
       "      <td>0</td>\n",
       "      <td>0</td>\n",
       "      <td>0</td>\n",
       "    </tr>\n",
       "    <tr>\n",
       "      <th>2</th>\n",
       "      <td>0</td>\n",
       "      <td>5</td>\n",
       "      <td>5</td>\n",
       "      <td>0</td>\n",
       "      <td>6123.0</td>\n",
       "      <td>4</td>\n",
       "      <td>1</td>\n",
       "      <td>1.0</td>\n",
       "      <td>1.0</td>\n",
       "      <td>0</td>\n",
       "      <td>...</td>\n",
       "      <td>1</td>\n",
       "      <td>5</td>\n",
       "      <td>7</td>\n",
       "      <td>4</td>\n",
       "      <td>1</td>\n",
       "      <td>0</td>\n",
       "      <td>0</td>\n",
       "      <td>0</td>\n",
       "      <td>0</td>\n",
       "      <td>0</td>\n",
       "    </tr>\n",
       "    <tr>\n",
       "      <th>3</th>\n",
       "      <td>0</td>\n",
       "      <td>1</td>\n",
       "      <td>5</td>\n",
       "      <td>0</td>\n",
       "      <td>7711.0</td>\n",
       "      <td>0</td>\n",
       "      <td>1</td>\n",
       "      <td>1.0</td>\n",
       "      <td>0.0</td>\n",
       "      <td>0</td>\n",
       "      <td>...</td>\n",
       "      <td>1</td>\n",
       "      <td>5</td>\n",
       "      <td>2</td>\n",
       "      <td>4</td>\n",
       "      <td>1</td>\n",
       "      <td>0</td>\n",
       "      <td>0</td>\n",
       "      <td>0</td>\n",
       "      <td>0</td>\n",
       "      <td>0</td>\n",
       "    </tr>\n",
       "    <tr>\n",
       "      <th>4</th>\n",
       "      <td>0</td>\n",
       "      <td>5</td>\n",
       "      <td>5</td>\n",
       "      <td>0</td>\n",
       "      <td>9299.0</td>\n",
       "      <td>1</td>\n",
       "      <td>1</td>\n",
       "      <td>1.0</td>\n",
       "      <td>0.0</td>\n",
       "      <td>0</td>\n",
       "      <td>...</td>\n",
       "      <td>0</td>\n",
       "      <td>5</td>\n",
       "      <td>3</td>\n",
       "      <td>5</td>\n",
       "      <td>1</td>\n",
       "      <td>0</td>\n",
       "      <td>0</td>\n",
       "      <td>0</td>\n",
       "      <td>0</td>\n",
       "      <td>0</td>\n",
       "    </tr>\n",
       "    <tr>\n",
       "      <th>...</th>\n",
       "      <td>...</td>\n",
       "      <td>...</td>\n",
       "      <td>...</td>\n",
       "      <td>...</td>\n",
       "      <td>...</td>\n",
       "      <td>...</td>\n",
       "      <td>...</td>\n",
       "      <td>...</td>\n",
       "      <td>...</td>\n",
       "      <td>...</td>\n",
       "      <td>...</td>\n",
       "      <td>...</td>\n",
       "      <td>...</td>\n",
       "      <td>...</td>\n",
       "      <td>...</td>\n",
       "      <td>...</td>\n",
       "      <td>...</td>\n",
       "      <td>...</td>\n",
       "      <td>...</td>\n",
       "      <td>...</td>\n",
       "      <td>...</td>\n",
       "    </tr>\n",
       "    <tr>\n",
       "      <th>6984</th>\n",
       "      <td>0</td>\n",
       "      <td>2</td>\n",
       "      <td>1</td>\n",
       "      <td>0</td>\n",
       "      <td>6895.0</td>\n",
       "      <td>5</td>\n",
       "      <td>1</td>\n",
       "      <td>0.0</td>\n",
       "      <td>0.0</td>\n",
       "      <td>0</td>\n",
       "      <td>...</td>\n",
       "      <td>1</td>\n",
       "      <td>1</td>\n",
       "      <td>5</td>\n",
       "      <td>5</td>\n",
       "      <td>1</td>\n",
       "      <td>0</td>\n",
       "      <td>0</td>\n",
       "      <td>0</td>\n",
       "      <td>2</td>\n",
       "      <td>0</td>\n",
       "    </tr>\n",
       "    <tr>\n",
       "      <th>6985</th>\n",
       "      <td>0</td>\n",
       "      <td>3</td>\n",
       "      <td>3</td>\n",
       "      <td>0</td>\n",
       "      <td>9707.0</td>\n",
       "      <td>1</td>\n",
       "      <td>1</td>\n",
       "      <td>1.0</td>\n",
       "      <td>0.0</td>\n",
       "      <td>0</td>\n",
       "      <td>...</td>\n",
       "      <td>1</td>\n",
       "      <td>5</td>\n",
       "      <td>2</td>\n",
       "      <td>4</td>\n",
       "      <td>1</td>\n",
       "      <td>0</td>\n",
       "      <td>0</td>\n",
       "      <td>0</td>\n",
       "      <td>0</td>\n",
       "      <td>0</td>\n",
       "    </tr>\n",
       "    <tr>\n",
       "      <th>6986</th>\n",
       "      <td>0</td>\n",
       "      <td>1</td>\n",
       "      <td>5</td>\n",
       "      <td>0</td>\n",
       "      <td>6804.0</td>\n",
       "      <td>0</td>\n",
       "      <td>0</td>\n",
       "      <td>1.0</td>\n",
       "      <td>0.0</td>\n",
       "      <td>0</td>\n",
       "      <td>...</td>\n",
       "      <td>1</td>\n",
       "      <td>5</td>\n",
       "      <td>3</td>\n",
       "      <td>1</td>\n",
       "      <td>1</td>\n",
       "      <td>0</td>\n",
       "      <td>0</td>\n",
       "      <td>4</td>\n",
       "      <td>0</td>\n",
       "      <td>0</td>\n",
       "    </tr>\n",
       "    <tr>\n",
       "      <th>6987</th>\n",
       "      <td>0</td>\n",
       "      <td>2</td>\n",
       "      <td>3</td>\n",
       "      <td>0</td>\n",
       "      <td>12474.0</td>\n",
       "      <td>1</td>\n",
       "      <td>1</td>\n",
       "      <td>1.0</td>\n",
       "      <td>0.0</td>\n",
       "      <td>0</td>\n",
       "      <td>...</td>\n",
       "      <td>0</td>\n",
       "      <td>4</td>\n",
       "      <td>5</td>\n",
       "      <td>5</td>\n",
       "      <td>1</td>\n",
       "      <td>0</td>\n",
       "      <td>0</td>\n",
       "      <td>0</td>\n",
       "      <td>0</td>\n",
       "      <td>0</td>\n",
       "    </tr>\n",
       "    <tr>\n",
       "      <th>6988</th>\n",
       "      <td>0</td>\n",
       "      <td>4</td>\n",
       "      <td>5</td>\n",
       "      <td>0</td>\n",
       "      <td>8165.0</td>\n",
       "      <td>1</td>\n",
       "      <td>1</td>\n",
       "      <td>1.0</td>\n",
       "      <td>0.0</td>\n",
       "      <td>0</td>\n",
       "      <td>...</td>\n",
       "      <td>1</td>\n",
       "      <td>5</td>\n",
       "      <td>2</td>\n",
       "      <td>4</td>\n",
       "      <td>1</td>\n",
       "      <td>0</td>\n",
       "      <td>0</td>\n",
       "      <td>4</td>\n",
       "      <td>1</td>\n",
       "      <td>0</td>\n",
       "    </tr>\n",
       "  </tbody>\n",
       "</table>\n",
       "<p>6940 rows × 31 columns</p>\n",
       "</div>"
      ],
      "text/plain": [
       "      SEXVAR  _IMPAGE  _IMPRACE  VETERAN3    WTKG3  _IMPMRTL  _RFBMI5  \\\n",
       "0          0        5         1         0  11113.0         1        1   \n",
       "1          0        4         5         0   9525.0         1        1   \n",
       "2          0        5         5         0   6123.0         4        1   \n",
       "3          0        1         5         0   7711.0         0        1   \n",
       "4          0        5         5         0   9299.0         1        1   \n",
       "...      ...      ...       ...       ...      ...       ...      ...   \n",
       "6984       0        2         1         0   6895.0         5        1   \n",
       "6985       0        3         3         0   9707.0         1        1   \n",
       "6986       0        1         5         0   6804.0         0        0   \n",
       "6987       0        2         3         0  12474.0         1        1   \n",
       "6988       0        4         5         0   8165.0         1        1   \n",
       "\n",
       "      HLTHPLN1  ADDEPEV3  DIABETE4  ...  _RFSEAT3  _IMPEDUC  EMPLOY1  _INCOMG  \\\n",
       "0          1.0       0.0         0  ...         1         5        2        4   \n",
       "1          1.0       0.0         0  ...         1         5        2        4   \n",
       "2          1.0       1.0         0  ...         1         5        7        4   \n",
       "3          1.0       0.0         0  ...         1         5        2        4   \n",
       "4          1.0       0.0         0  ...         0         5        3        5   \n",
       "...        ...       ...       ...  ...       ...       ...      ...      ...   \n",
       "6984       0.0       0.0         0  ...         1         1        5        5   \n",
       "6985       1.0       0.0         0  ...         1         5        2        4   \n",
       "6986       1.0       0.0         0  ...         1         5        3        1   \n",
       "6987       1.0       0.0         0  ...         0         4        5        5   \n",
       "6988       1.0       0.0         0  ...         1         5        2        4   \n",
       "\n",
       "      _METSTAT  USENOW3  ECIGARET  _SMOKER3  _RFBING5  CVDCRHD4  \n",
       "0            1        0         0         0         0         0  \n",
       "1            1        0         0         0         0         0  \n",
       "2            1        0         0         0         0         0  \n",
       "3            1        0         0         0         0         0  \n",
       "4            1        0         0         0         0         0  \n",
       "...        ...      ...       ...       ...       ...       ...  \n",
       "6984         1        0         0         0         2         0  \n",
       "6985         1        0         0         0         0         0  \n",
       "6986         1        0         0         4         0         0  \n",
       "6987         1        0         0         0         0         0  \n",
       "6988         1        0         0         4         1         0  \n",
       "\n",
       "[6940 rows x 31 columns]"
      ]
     },
     "execution_count": 15,
     "metadata": {},
     "output_type": "execute_result"
    }
   ],
   "source": [
    "#copy of cleaned df to change categorical data to numeric\n",
    "numeric_df = df_cleaned.copy()\n",
    "\n",
    "#2 categories\n",
    "\n",
    "#replacing no = 0 and yes = 1 \n",
    "#numeric_df['CVDCRHD4'] = numeric_df.CVDCRHD4.eq('Yes').mul(1)\n",
    "numeric_df['CVDCRHD4'] = numeric_df.CVDCRHD4.map({'Yes':1, 'No':0})\n",
    "#replacing male = 0 and female = 1\n",
    "numeric_df['SEXVAR'] = numeric_df.SEXVAR.eq('Male').mul(0)\n",
    "\n",
    "\n",
    "#3 categories\n",
    "\n",
    "#replacing no/bad = 0, yes/good = 1, idk/missing/refused = 2\n",
    "numeric_df['_TOTINDA'] = numeric_df._TOTINDA.map({'Had physical activity or exercise':1, 'No physical activity or exercise in last 30 days':0, 'Don’t know/Refused/Missing':2})\n",
    "numeric_df['_RFSEAT3'] = numeric_df._RFSEAT3.map({'Always Wear Seat Belt':1, 'Don’t Always Wear Seat Belt':0, 'Don’t know/Not Sure Or Refused/Missing':2})\n",
    "numeric_df['_RFHLTH'] = numeric_df._RFHLTH.map({'Good or Better Health':1, 'Fair or Poor Health':0, 'Don’t know/Not Sure Or Refused/Missing':2})\n",
    "numeric_df['_RFBING5'] = numeric_df._RFBING5.map({'Yes':1, 'No':0, 'Don’t know/Refused/Missing':2})\n",
    "numeric_df['_RFBMI5'] = numeric_df._RFBMI5.map({'Yes':1, 'No':0, 'Don’t know/Refused/Missing':2})\n",
    "\n",
    "#4 categories\n",
    "\n",
    "#replacing no = 0, yes = 1, idk/missing = 2 refused = 3\n",
    "numeric_df['FLUSHOT7'] = numeric_df.FLUSHOT7.map({'Yes':1, 'No':0, 'Don’t know/Not Sure':2,  'Refused': 3 })\n",
    "numeric_df['ECIGARET'] = numeric_df.ECIGARET.map({'Yes':1, 'No':0, 'Don’t know/Not Sure':2, 'Refused': 3 })\n",
    "numeric_df['VETERAN3'] = numeric_df.VETERAN3.map({'Yes':1, 'No':0, 'Don’t know/Not Sure':2, 'Refused': 3 })\n",
    "numeric_df['ADDEPEV3'] = numeric_df.ADDEPEV3.map({'Yes':1, 'No':0, 'Don’t know/Not Sure':2, 'Refused': 3 })\n",
    "## ADDEPEV3 contains NAN changing those to value 3 == Refused to answer\n",
    "numeric_df['ADDEPEV3'] = numeric_df['ADDEPEV3'].fillna(3)\n",
    "numeric_df['HLTHPLN1'] = numeric_df.HLTHPLN1.map({'Yes':1, 'No':0, 'Don’t know/Not sure':2, 'Refused': 3 })\n",
    "## HLTHPLN1 contains NAN changing those to value 3 == Refused to answer\n",
    "numeric_df['HLTHPLN1'] = numeric_df['HLTHPLN1'].fillna(3)\n",
    "numeric_df['PDIABTST'] = numeric_df.PDIABTST.map({'Yes':1, 'No':0, 'Don’t know/Not sure':2, 'Refused': 3 })\n",
    "## PDIABTST contains NAN changing those to value 3 == Refused to answer\n",
    "numeric_df['PDIABTST'] = numeric_df['PDIABTST'].fillna(3)\n",
    "#replacing non = 0, most = 1, some = 2, idk/missing = 3\n",
    "numeric_df['_PHYS14D'] = numeric_df._PHYS14D.map({'14+ days when physical health not good':1, 'Zero days when physical health not good':0, '1-13 days when physical health not good': 2, 'Don’t know/Refused/Missing':3})\n",
    "numeric_df['_MENT14D'] = numeric_df._MENT14D.map({'14+ days when physical health not good':1, 'Zero days when physical health not good':0, '1-13 days when physical health not good': 2, 'Don’t know/Refused/Missing':3})\n",
    "## _MENT14D contains NAN changing those to value 3 == Refused to answer\n",
    "numeric_df['_MENT14D'] = numeric_df['_MENT14D'].fillna(3)\n",
    "    ##does _MENT14D really add to our project? every one answered with a value of 3 (idk/missing)\n",
    "\n",
    "#5 categories\n",
    "\n",
    "#replacing no = 0, yes = 1, some = 2, idk/missing = 3, refused = 4\n",
    "numeric_df['USENOW3'] = numeric_df.USENOW3.map({'Every day':1, 'Not at all':0, 'Some days': 2, 'Don’t know/Not Sure':3, 'Refused': 4 })\n",
    "numeric_df['PREDIAB1'] = numeric_df.PREDIAB1.map({'Yes':1, 'No':0, 'Yes, during pregnancy': 2, 'Don’t know/Not Sure':3, 'Refused': 4 })\n",
    "numeric_df['DIABETE4'] = numeric_df.DIABETE4.map({'Yes, but female told only during pregnancy':1, 'No':0, 'No, pre-diabetes or borderline diabetes': 2, 'Don’t know/Not Sure':3, 'Refused': 4 })\n",
    "#replacing no = 0, yes = 1, some = 2, former = 3 ,idk/missing = 4 \n",
    "numeric_df['_SMOKER3'] = numeric_df._SMOKER3.map({'Current smoker - now smokes every day':1, 'Never smoked':0, 'Current smoker - now smokes some days': 2, 'Don’t know/Refused/Missing':3, 'Former smoker': 4 })\n",
    "\n",
    "#6 categories\n",
    "\n",
    "#replacing Never married = 0, Married = 1, Separated = 2, Divorced = 3 , Widowed = 4, A member of an unmarried couple = 5 \n",
    "numeric_df['_IMPMRTL'] = numeric_df._IMPMRTL.map({'Married':1, 'Never married':0, 'Separated': 2, 'Divorced':3, 'Widowed': 4, 'A member of an unmarried couple': 5})\n",
    "#replacing American Indian/Alaskan Native, Non-Hispanic = 0, Asian, Non-Hispanic = 1, Black, Non-Hispanic = 2, Hispanic = 3 ,Other race, Non-Hispanic = 4,  White, Non-Hispanic = 5\n",
    "numeric_df['_IMPRACE'] = numeric_df._IMPRACE.map({'Asian, Non-Hispanic':1, 'American Indian/Alaskan Native, Non-Hispanic':0, 'Black, Non-Hispanic': 2, 'Hispanic':3, 'Other race, Non-Hispanic': 4, 'White, Non-Hispanic': 5})\n",
    "#replacing Age 18 to 24 = 0, Age 25 to 34 = 1, Age 35 to 44 = 2, Age 45 to 54 = 3 , Age 55 to 64 = 4,  Age 65 or older = 5\n",
    "numeric_df['_IMPAGE'] = numeric_df._IMPAGE.map({'Age 25 to 34':1, 'Age 18 to 24':0, 'Age 35 to 44': 2, 'Age 45 to 54':3, 'Age 55 to 64': 4, 'Age 65 or older': 5})\n",
    "#replacing No = 0, Yes = 1, borderline = 2, preg = 3 , Don't Know/Not Sure = 4,  Refused = 5\n",
    "numeric_df['BPHIGH4'] = numeric_df.BPHIGH4.map({'No':0, 'Yes':1, 'Told borderline high or pre-hypertensive': 2, 'Yes, but female told only during pregnancy':3, 'Don’t know/Not Sure': 4, 'Refused': 5})\n",
    "## BPHIGH4 contains NAN changing those to value 5 == Refused to answer\n",
    "numeric_df['BPHIGH4'] = numeric_df['BPHIGH4'].fillna(5)\n",
    "#replacing None = 0, 1 to 5 = 1, 6 or more, but not all = 2, All = 3 , Don't Know/Not Sure = 4,  Refused = 5\n",
    "numeric_df['RMVTETH4'] = numeric_df.RMVTETH4.map({'None':0, '1 to 5':1, '6 or more, but not all': 2, 'GED':3, 'College 1 year to 3 years (Some college or technical school)': 4, 'College 4 years or more (College graduate)': 5, 'Refused': 6})\n",
    "## RMVTETH4 contains NAN changing those to value 6 == Refused to answer\n",
    "numeric_df['RMVTETH4'] = numeric_df['RMVTETH4'].fillna(6)\n",
    "\n",
    "\n",
    "#replacing None = 0, elementary = 1, some high school = 2, high school = 3 , Don't Know/Not Sure = 4,  Refused = 5\n",
    "numeric_df['_IMPEDUC'] = numeric_df._IMPEDUC.map({'Never attended school or only kindergarten':0, 'Grades 1 through 8 (Elementary)':1, 'Grades 9 through 11 (Some high school)': 2, 'Grade 12 or GED (High school graduate)':3, 'College 1 year to 3 years (Some college or technical school)':4, 'College 4 years or more (College graduate)': 5})\n",
    "#replacing < $15,000 = 0, $15,000 < $25,000 = 1, $25,000 < $35,000 = 2, $35,000 < $50,000 = 3 , $50,000 or more = 4,  Don’t know/Not sure/Missing = 5\n",
    "numeric_df['_INCOMG'] = numeric_df._INCOMG.map({'Less than $15,000':0, '$15,000 to less than $25,000':1, '$25,000 to less than $35,000': 2, '$35,000 to less than $50,000':3, '$50,000 or more':4, 'Don’t know/Not sure/Missing': 5})\n",
    "\n",
    "#7 categories\n",
    "\n",
    "#replacing Never = 0, 1 yr = 1, less than 2 years ago = 2, less than 5 years ago = 3 , 5 or more years ago = 4,  Don’t know/Not sure = 5, refused = 6\n",
    "numeric_df['CHECKUP1'] = numeric_df.CHECKUP1.map({'Never':0, 'Within past year (anytime less than 12 months ago)':1, 'Within past 2 years (1 year but less than 2 years ago)': 2, 'Within past 5 years (2 years but less than 5 years ago)':3, '5 or more years ago':4, 'Don’t know/Not sure': 5, 'Refused': 6})\n",
    "numeric_df['LASTDEN4'] = numeric_df.LASTDEN4.map({'Never':0, 'Within past year (anytime less than 12 months ago)':1, 'Within past 2 years (1 year but less than 2 years ago)': 2, 'Within past 5 years (2 years but less than 5 years ago)':3, '5 or more years ago':4, 'Don’t know/Not sure': 5, 'Refused': 6})\n",
    "## LASTDEN4 contains 6274 NAN values, Changing these to a value of 6 which is equal to refused to answer.\n",
    "numeric_df['LASTDEN4'] = numeric_df['LASTDEN4'].fillna(6)\n",
    "\n",
    "#9 categories\n",
    "\n",
    "#replacing homemaker = 0, A student = 1, Employed for wages = 2, Self-employed\t0  = 3 , Unable to work = 4,  Out of work for < 1 year = 5, Out of work for > year = 6, Retired = 7, Refused = 8\n",
    "numeric_df['EMPLOY1'] = numeric_df.EMPLOY1.map({'A homemaker':0, 'A student':1, 'Employed for wages': 2, 'Self-employed':3, 'Unable to work':4, 'Out of work for less than 1 year': 5, 'Out of work for 1 year or more': 6, 'Retired': 7, 'Refused': 8})\n",
    "\n",
    "\n",
    "numeric_df.columns\n",
    "#numeric_df = numeric_df.dropna()\n",
    "numeric_df\n",
    "#numeric_df.isnull().sum()\n",
    "#new_df.groupby('_INCOMG').sum()"
   ]
  },
  {
   "cell_type": "code",
   "execution_count": 16,
   "id": "7ff3bdb3",
   "metadata": {},
   "outputs": [],
   "source": [
    "from sklearn.linear_model import LinearRegression\n",
    "from sklearn.neighbors import KNeighborsRegressor\n",
    "\n",
    "X = numeric_df.loc[:, numeric_df.columns != 'CVDCRHD4']\n",
    "y = numeric_df['CVDCRHD4']\n",
    "\n",
    "\n",
    "# # Split the data into training and test data set\n",
    "X_train, X_test, y_train, y_test = train_test_split(X, y, test_size=0.2, random_state = 42)"
   ]
  },
  {
   "cell_type": "code",
   "execution_count": 23,
   "id": "76ea32ba",
   "metadata": {},
   "outputs": [],
   "source": [
    "#create two different dataframe of majority and minority class \n",
    "training_data = pd.DataFrame(X_train)\n",
    "training_data['CVDCRHD4'] = y_train\n",
    "df_majority = training_data[(training_data['CVDCRHD4']==0)] \n",
    "df_minority = training_data[(training_data['CVDCRHD4']==1)] \n",
    "# upsample minority class\n",
    "df_minority_upsampled = resample(df_minority, \n",
    "                                 replace=True,    # sample with replacement\n",
    "                                 n_samples= len(df_majority), # to match majority class\n",
    "                                 random_state=42)  # reproducible results\n",
    "# Combine majority class with upsampled minority class\n",
    "df_upsampled = pd.concat([df_minority_upsampled, df_majority])\n",
    "X_train_upsampled = df_upsampled.loc[:, df_cleaned.columns != 'CVDCRHD4']\n",
    "y_train_upsampled = df_upsampled['CVDCRHD4']"
   ]
  },
  {
   "cell_type": "code",
   "execution_count": 24,
   "id": "cc1d17d1",
   "metadata": {},
   "outputs": [
    {
     "name": "stdout",
     "output_type": "stream",
     "text": [
      "Accuracy Score = 0.6765129682997119\n",
      "Precision Score = 0.5460907000435291\n",
      "Recall Score = 0.7253119429590018\n",
      "F1 Score = 0.49441490116861575\n"
     ]
    },
    {
     "name": "stderr",
     "output_type": "stream",
     "text": [
      "C:\\Users\\Urvi\\AppData\\Roaming\\Python\\Python39\\site-packages\\sklearn\\linear_model\\_logistic.py:444: ConvergenceWarning:\n",
      "\n",
      "lbfgs failed to converge (status=1):\n",
      "STOP: TOTAL NO. of ITERATIONS REACHED LIMIT.\n",
      "\n",
      "Increase the number of iterations (max_iter) or scale the data as shown in:\n",
      "    https://scikit-learn.org/stable/modules/preprocessing.html\n",
      "Please also refer to the documentation for alternative solver options:\n",
      "    https://scikit-learn.org/stable/modules/linear_model.html#logistic-regression\n",
      "\n"
     ]
    }
   ],
   "source": [
    "#Logistic Regression\n",
    "RANDOM_SEED = 694\n",
    "\n",
    "clf_lr = LogisticRegression(random_state = RANDOM_SEED).fit(X_train_upsampled, y_train_upsampled)\n",
    "y_pred = clf_lr.predict(X_test)\n",
    "lr_f1 = f1_score(y_test, y_pred, average = 'macro')\n",
    "lr_accuracy = accuracy_score(y_test, y_pred)\n",
    "lr_precision = precision_score(y_test, y_pred, average='macro')\n",
    "lr_recall = recall_score(y_test, y_pred, average='macro')\n",
    "print(\"Accuracy Score = \" + str(lr_accuracy))\n",
    "print(\"Precision Score = \" + str(lr_precision))\n",
    "print(\"Recall Score = \" + str(lr_recall))\n",
    "print(\"F1 Score = \" + str(lr_f1))\n"
   ]
  },
  {
   "cell_type": "code",
   "execution_count": null,
   "id": "62526ec3",
   "metadata": {},
   "outputs": [],
   "source": [
    "#K NEAREST NEIGHBOR\n",
    "knn_clf=KNeighborsRegressor()\n",
    "knnreg = KNeighborsRegressor(n_neighbors = 83).fit(X_train_upsampled, y_train_upsampled)\n",
    "r2 = knnreg.score(X_test, y_test)\n",
    "r2\n"
   ]
  },
  {
   "cell_type": "code",
   "execution_count": 26,
   "id": "84d04a24",
   "metadata": {},
   "outputs": [
    {
     "name": "stdout",
     "output_type": "stream",
     "text": [
      "Accuracy Score = 0.9495677233429395\n",
      "Precision Score = 0.4754689754689755\n",
      "Recall Score = 0.49924242424242427\n",
      "F1 Score = 0.48706577974870663\n"
     ]
    }
   ],
   "source": [
    "#RANDOM FOREST\n",
    "random_forest = RandomForestClassifier(n_estimators= 200, min_samples_split= 2, min_samples_leaf = 1, max_depth = None, bootstrap = False, random_state = RANDOM_SEED )\n",
    "random_forest.fit(X_train_upsampled, y_train_upsampled)\n",
    "\n",
    "y_pred = random_forest.predict(X_test)\n",
    "\n",
    "rf_f1 = f1_score(y_test, y_pred, average = 'macro')\n",
    "rf_accuracy = accuracy_score(y_test, y_pred)\n",
    "rf_precision = precision_score(y_test, y_pred, average='macro')\n",
    "rf_recall = recall_score(y_test, y_pred, average='macro')\n",
    "print(\"Accuracy Score = \" + str(rf_accuracy))\n",
    "print(\"Precision Score = \" + str(rf_precision))\n",
    "print(\"Recall Score = \" + str(rf_recall))\n",
    "print(\"F1 Score = \" + str(rf_f1))"
   ]
  },
  {
   "cell_type": "code",
   "execution_count": null,
   "id": "77faa0b9",
   "metadata": {},
   "outputs": [],
   "source": [
    "from sklearn.linear_model import LinearRegression\n",
    "from sklearn.preprocessing import PolynomialFeatures\n",
    "\n",
    "#POLYNOMIAL REGRESSION\n",
    "degs = (1, 3, 7, 11)\n",
    "\n",
    "X = numeric_df.loc[:, numeric_df.columns != 'CVDCRHD4']\n",
    "y = numeric_df['CVDCRHD4']\n",
    "    \n",
    "X_train, X_test, y_train, y_test = train_test_split(X, y, test_size=0.2, random_state = 0)\n",
    "# for d in degs:\n",
    "poly = PolynomialFeatures(degree = 3)\n",
    "    #print(poly)\n",
    "        \n",
    "X_poly = poly.fit_transform(X)\n",
    "       \n",
    "        \n",
    "linreg = LinearRegression().fit(X_train, y_train)\n",
    "r2_train =linreg.score(X_train, y_train)\n",
    "    \n",
    "print(r2_train)\n"
   ]
  }
 ],
 "metadata": {
  "interpreter": {
   "hash": "eabca979b0553fa6d87e9a00c352604d3b703d4afc9641643dd42376492b80f6"
  },
  "kernelspec": {
   "display_name": "Python 3.9.2 64-bit",
   "language": "python",
   "name": "python3"
  },
  "language_info": {
   "codemirror_mode": {
    "name": "ipython",
    "version": 3
   },
   "file_extension": ".py",
   "mimetype": "text/x-python",
   "name": "python",
   "nbconvert_exporter": "python",
   "pygments_lexer": "ipython3",
   "version": "3.9.2"
  }
 },
 "nbformat": 4,
 "nbformat_minor": 5
}
