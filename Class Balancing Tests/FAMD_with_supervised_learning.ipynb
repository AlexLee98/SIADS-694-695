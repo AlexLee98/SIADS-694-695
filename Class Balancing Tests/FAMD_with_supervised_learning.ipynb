{
 "cells": [
  {
   "cell_type": "code",
   "execution_count": 1,
   "id": "7022c12f",
   "metadata": {},
   "outputs": [],
   "source": [
    "import pandas as pd\n",
    "import numpy as np\n",
    "from prince import FAMD\n",
    "import matplotlib.pyplot as plt\n",
    "from sklearn.dummy import DummyClassifier\n",
    "from sklearn.linear_model import LogisticRegression\n",
    "from sklearn.ensemble import RandomForestClassifier\n",
    "from sklearn.model_selection import GridSearchCV\n",
    "from sklearn.linear_model import LinearRegression\n",
    "from sklearn.preprocessing import PolynomialFeatures\n",
    "from sklearn.neighbors import KNeighborsRegressor\n",
    "from sklearn.metrics import accuracy_score,recall_score,precision_score,f1_score"
   ]
  },
  {
   "cell_type": "code",
   "execution_count": 2,
   "id": "e63c540a",
   "metadata": {},
   "outputs": [],
   "source": [
    "%%capture\n",
    "from tqdm import tqdm_notebook as tqdm\n",
    "tqdm().pandas()"
   ]
  },
  {
   "cell_type": "code",
   "execution_count": 3,
   "id": "7cc0330e",
   "metadata": {},
   "outputs": [
    {
     "name": "stderr",
     "output_type": "stream",
     "text": [
      "<ipython-input-3-062ccc2311b6>:3: TqdmDeprecationWarning: This function will be removed in tqdm==5.0.0\n",
      "Please use `tqdm.notebook.tqdm` instead of `tqdm.tqdm_notebook`\n",
      "  for x in tqdm(my_list):\n"
     ]
    },
    {
     "data": {
      "application/vnd.jupyter.widget-view+json": {
       "model_id": "ce574c864c9a4ea599b9957c7938c86d",
       "version_major": 2,
       "version_minor": 0
      },
      "text/plain": [
       "  0%|          | 0/100 [00:00<?, ?it/s]"
      ]
     },
     "metadata": {},
     "output_type": "display_data"
    },
    {
     "name": "stderr",
     "output_type": "stream",
     "text": [
      "C:\\Users\\Urvi\\AppData\\Roaming\\Python\\Python39\\site-packages\\IPython\\core\\interactiveshell.py:3165: DtypeWarning: Columns (39,151,274,275,276,277,278,279,280,281,282,283,284,285,286,287,288,289,290,291,292,293,294,295,296,297) have mixed types.Specify dtype option on import or set low_memory=False.\n",
      "  has_raised = await self.run_ast_nodes(code_ast.body, cell_name,\n"
     ]
    }
   ],
   "source": [
    "# Read in DataFrame\n",
    "my_list = list(range(100))\n",
    "for x in tqdm(my_list):\n",
    "    df = pd.read_csv('../NYSDOH_BRFSS_SurveyData_2020.csv', encoding = 'cp1252')"
   ]
  },
  {
   "cell_type": "code",
   "execution_count": null,
   "id": "9c236d7c",
   "metadata": {},
   "outputs": [],
   "source": [
    "# View first 5 rows of the data\n",
    "\n",
    "df.head(5)"
   ]
  },
  {
   "cell_type": "code",
   "execution_count": 4,
   "id": "2673159e",
   "metadata": {},
   "outputs": [],
   "source": [
    "# Use df_clean for cleaning\n",
    "df_clean = df.copy()\n",
    "\n",
    "# Repalce 'Not asked or Missing' and 'Data do not meet the criteria for statistical reliability, \n",
    "# data quality or confidentiality (data are suppressed)' with NA\n",
    "for col in df.columns:\n",
    "    df_clean[col].replace({'Not asked or Missing' : np.nan}, inplace = True)\n",
    "    df_clean[col].replace({'Data do not meet the criteria for statistical reliability, data quality or confidentiality (data are suppressed)' : np.nan}, inplace = True)\n",
    "    \n",
    "# Drop columns with over 80% missing values\n",
    "df_clean.dropna(axis = 1, thresh = len(df_clean) * .50, inplace = True)"
   ]
  },
  {
   "cell_type": "code",
   "execution_count": null,
   "id": "acd4e2a2",
   "metadata": {},
   "outputs": [],
   "source": [
    "null_vals = df_clean.isnull().sum()\n",
    "null_vals_desc = null_vals.sort_values(ascending=False)\n",
    "null_vals_desc.to_csv('null_columns.csv')"
   ]
  },
  {
   "cell_type": "code",
   "execution_count": null,
   "id": "5061ea7d",
   "metadata": {},
   "outputs": [],
   "source": [
    "# View first 5 rows of DataFrame after cleaning out missing values\n",
    "df_clean.head(5)"
   ]
  },
  {
   "cell_type": "code",
   "execution_count": null,
   "id": "0562eac0",
   "metadata": {},
   "outputs": [],
   "source": [
    "# Select relevant columns related to heart disease by utilizing resources detailing factors of heart disease\n",
    "# shorturl.at/oqwF5 - Behavioral risk factors of coronary artery disease: A paired matched case control study\n",
    "# shorturl.at/cpAXZ - Strategies to prevent heart disease\n",
    "# shorturl.at/gpwAR - Top five habits that harm the heart\n",
    "# shorturl.at/mtJUZ - 9 Common Habits That Are Bad for Your Heart\n",
    "\n",
    "list(df_clean.columns)"
   ]
  },
  {
   "cell_type": "code",
   "execution_count": null,
   "id": "56f567e9",
   "metadata": {},
   "outputs": [],
   "source": [
    "# Characteristics\n",
    "# 1. SEXVAR - Sex - (Male or Female)\n",
    "# 2. _IMPAGE - Age - (Age 65 or older, Age 55 - 64, Age 45 - 54, Age 35 - 44, Age 25 - 34, Age 18 - 24)\n",
    "# 3. _IMPRACE - Race - (White, Non-Hispanic, Hispanic, Black, Non-Hispanic, Other race, Non-Hispanic, Asian, Non-Hispanic,\n",
    "# American Indian/Alaskan Native, Non-Hispanic)\n",
    "# 4. VETERAN3 - Former veteran status - (Yes, No, Refused, Don't know/Not sure)\n",
    "# 5. WTKG3 - Weight in KG - (Continous value)\n",
    "# 6. _IMPMRTL - Marital status - (Married, Never Married, Divorced, Widowed, A member of an unmarried couple, \n",
    "# Separated)\n",
    "# 7. _RFBMI5 - Overweight or Obese - (Yes, No, Don’t know/Refused/Missing)\n",
    "\n",
    "\n",
    "# Health \n",
    "# 8. HLTHPLN1 - Has Healthcare Coverage - (Yes, No, Don't know/Not sure, Refused)\n",
    "# 9. ADDEPEV3 - Diagnosed with depression - (Yes, No, Don't know/Not sure, Refused)\n",
    "# 10. DIABETE4 - Diagnosed with diabetes - (Yes, Yes, but female told only during pregnancy, \n",
    "# No, pre-diabetes or borderline diabetes, No, Don't know/Not sure, Refused)\n",
    "# 11. RMVTETH4 - Number of teeth removed - All, 6 or more, but not all, 1 to 5, None, Don't know/Not sure, Refused\n",
    "# 12. _PHYS14D - Number of days physical health not well - (Zero days when physical health not good,     \n",
    "# 1-13 days when physical health not good, 14+ days when physical health not good, Don’t know/Refused/Missing)                 \n",
    "# 13. _MENT14D - Number of days mental health not well - Zero days when mental health not good\n",
    "# 1-13 days when mental health not good, 14+ days when mental health not good, Don’t know/Refused/Missing    \n",
    "# 14. _TOTINDA - Physical activity - (Had physical activity or exercise, No physical activity or exercise in last 30 days,     \n",
    "# Don’t know/Refused/Missing)       \n",
    "# 15. PDIABTST - User has gotten a test for high blood sugar in past 3 years - (Yes, No, Don't know/Not sure, Refused)\n",
    "# 16. PREDIAB1 - Diagnosed as prediabetic - Yes, Yes, during pregnancy, Don't know/Not Sure, Refused, No\n",
    "# 17. _RFHLTH - General health - (Good or Better Health, Fair or Poor Health, Don’t know/Not Sure Or Refused/Missing)\n",
    "# 18. BPHIGH4 - (Told they have high blood pressure - Yes, Told borderline high or pre-hypertensive, \n",
    "# Yes, but female told only during pregnancy, Don't Know/Not Sure Refused, No) \n",
    "\n",
    "# Lifestyle\n",
    "# 19. CHECKUP1 - Length since last checkup - (Within past year (anytime less than 12 months ago), \n",
    "# Within past 2 years (1 year but less than 2 years ago), Within past 5 years (2 years but less than 5 years ago), \n",
    "# 5 or more years ago, Don’t know/Not sure, Never, Refused)\n",
    "# 20. LASTDEN4 - Last visited dentist - (Within past year (anytime less than 12 months ago), \n",
    "# Within past 2 years (1 year but less than 2 years ago), Within past 5 years (2 years but less than 5 years ago), \n",
    "# 5 or more years ago, Don’t know/Not sure, Never, Refused)\n",
    "# 21. FLUSHOT7 - Whether someone has taken the flu shot - (Yes, No, Don't know/Not sure, Refused)\n",
    "# 22. _RFSEAT3 - Seatbeat wearing status - (Always Wear Seat Belt, Don’t Always Wear Seat Belt\n",
    "# Don’t know/Not Sure Or Refused/Missing)\n",
    "\n",
    "# Socioeconomic status\n",
    "# 23. _IMPEDUC - Education - (College 4 years or more (College graduate), \n",
    "# College 1 year to 3 years (Some college or technical school), Grade 12 or GED (High school graduate), \n",
    "# Grades 9 through 11 (Some high school), Grades 1 through 8 (Elementary), Never attended school or only kindergarten)\n",
    "# Grades 9 through 11 (Some high school), Grades 1 through 8 (Elementary), Never attended school or only kindergarten)\n",
    "# 24. EMPLOY1 - \n",
    "# 25. _INCOMG - Income level - ($50,000 or more, Don’t know/Not sure/Missing, $15,000 to less than $25,000,   \n",
    "# $35,000 to less than $50,000, $25,000 to less than $35,000, Less than $15,000)\n",
    "# 26. _METSTAT - Whether they live in a metropolitan - (1, 2)\n",
    "\n",
    "# Tobacco, Alcohol\n",
    "# 27. USENOW3 - Use of smokeless tobacco - (Not at all, Some days, Every day, Refused, Don’t know/Not Sure) \n",
    "# 28. ECIGARET - E-ciggarette usage - (Yes, No, Don't know/Not sure, Refused)\n",
    "# 29. _SMOKER3 - Smoking status - (Current smoker - now smokes every day, Current smoker - now smokes some days,\n",
    "# Former smoker, Never smoked, Don’t know/Refused/Missing\n",
    "# 30. _RFBING5 - Binge drinking status - (Yes, No, Don’t know/Refused/Missing)                \n",
    "\n",
    "# Columns to keep - Response variable\n",
    "# 31. CVDINFR4 - Ever diagnosed with heart attack - (Yes, No, Don't know/Not sure, Refused)\n",
    "# 32. CVDCRHD4 - Ever diagnosed with angina/ coronary heart disease - (Yes, No, Don't know/Not sure, Refused)\n",
    "\n",
    "# For now we will predict heart disease\n",
    "df_clean_columns = df_clean[['_RACE',\n",
    "'_RACEGR3',\n",
    "'_RACEG21',\n",
    "'_MRACE1',\n",
    "'_HISPANC',\n",
    "'_M_RACE',\n",
    "'_SEX',\n",
    "'_PRACE1',\n",
    "'_RACEPRV',\n",
    "'_AGE80',\n",
    "'_AGEG5YR',\n",
    "'_AGE65YR',\n",
    "'_AGE_G',\n",
    "'HTIN4',\n",
    "'HTM4',\n",
    "'_BMI5',\n",
    "'_BMI5CAT',\n",
    "'_INCOMG',\n",
    "'_RFBMI5',\n",
    "'_CHLDCNT',\n",
    "'_SMOKER3',\n",
    "'_EDUCAG',\n",
    "'_STATE',\n",
    "'_RFSMOK3',\n",
    "'_RFPAP35',\n",
    "'REGION',\n",
    "'_AIDTST4',\n",
    "'_CRCREC1',\n",
    "'_SBONTIM',\n",
    "'_VIRCOLN',\n",
    "'_STOLDNA',\n",
    "'_RFBLDS4',\n",
    "'_SGMS10Y',\n",
    "'_SGMSCPY',\n",
    "'_CLNSCPY',\n",
    "'_RFPSA23',\n",
    "'_MAM5023',\n",
    "'DRNKANY5',\n",
    "'_RFMAM22',\n",
    "'_DRNKDRV',\n",
    "'_RFSEAT3',\n",
    "'_RFSEAT2',\n",
    "'_PNEUMO3',\n",
    "'_FLSHOT7',\n",
    "'_RFDRHV7',\n",
    "'_DRNKWK1',\n",
    "'_RFBING5',\n",
    "'_ALTETH3',\n",
    "'DROCDY3_',\n",
    "'_DENVST3',\n",
    "'_STSTR',\n",
    "'_EXTETH3',\n",
    "'SLEPTIM1',\n",
    "'RMVTETH4',\n",
    "'LASTDEN4',\n",
    "'DIABETE4',\n",
    "'CHCKDNY2',\n",
    "'ADDEPEV3',\n",
    "'HAVARTH4',\n",
    "'CHCCOPD2',\n",
    "'CHCOCNCR',\n",
    "'CHCSCNCR',\n",
    "'ASTHMA3',\n",
    "'CVDSTRK3',\n",
    "'CVDCRHD4',\n",
    "'CVDINFR4',\n",
    "'EXERANY2',\n",
    "'HISPANC3',\n",
    "'CHECKUP1',\n",
    "'MEDCOST',\n",
    "'PERSDOC2',\n",
    "'HLTHPLN1',\n",
    "'MENTHLTH',\n",
    "'PHYSHLTH',\n",
    "'GENHLTH',\n",
    "'SEXVAR',\n",
    "'_PSU',\n",
    "'SEQNO',\n",
    "'IYEAR',\n",
    "'IDAY',\n",
    "'IMONTH',\n",
    "'AGE',\n",
    "'MRACE1',\n",
    "'_DRDXAR2',\n",
    "'_IMPAGE',\n",
    "'_ASTHMS1',\n",
    "'_CASTHM1',\n",
    "'_LTASTH1',\n",
    "'_TOTINDA',\n",
    "'_HCVU651',\n",
    "'_MENT14D',\n",
    "'_PHYS14D',\n",
    "'_RFHLTH',\n",
    "'_LLCPWT',\n",
    "'_IMPHOME',\n",
    "'_IMPMRTL',\n",
    "'_IMPEDUC',\n",
    "'_IMPRACE',\n",
    "'_IMPSEX',\n",
    "'MARITAL',\n",
    "'IDATE',\n",
    "'MSCODE',\n",
    "'_URBSTAT',\n",
    "'_METSTAT',\n",
    "'_URBNRRL',\n",
    "'QSTLANG',\n",
    "'QSTVER',\n",
    "'CNCRTYP1',\n",
    "'CNCRAGE',\n",
    "'FALLINJ4',\n",
    "'FALL12MN',\n",
    "'RENTHOM1',\n",
    "'EDUCA',\n",
    "'DSRIPREG']]\n"
   ]
  },
  {
   "cell_type": "code",
   "execution_count": null,
   "id": "50791c42",
   "metadata": {
    "scrolled": true
   },
   "outputs": [],
   "source": [
    "# View non-null count \n",
    "df_clean_columns.info()"
   ]
  },
  {
   "cell_type": "code",
   "execution_count": 5,
   "id": "90940701",
   "metadata": {},
   "outputs": [
    {
     "ename": "NameError",
     "evalue": "name 'df_clean_columns' is not defined",
     "output_type": "error",
     "traceback": [
      "\u001b[1;31m---------------------------------------------------------------------------\u001b[0m",
      "\u001b[1;31mNameError\u001b[0m                                 Traceback (most recent call last)",
      "\u001b[1;32m<ipython-input-5-f11c5e8ada30>\u001b[0m in \u001b[0;36m<module>\u001b[1;34m\u001b[0m\n\u001b[0;32m      1\u001b[0m \u001b[1;31m# Encode categorical values\u001b[0m\u001b[1;33m\u001b[0m\u001b[1;33m\u001b[0m\u001b[1;33m\u001b[0m\u001b[0m\n\u001b[1;32m----> 2\u001b[1;33m \u001b[0mcols\u001b[0m \u001b[1;33m=\u001b[0m \u001b[0mlist\u001b[0m\u001b[1;33m(\u001b[0m\u001b[0mdf_clean_columns\u001b[0m\u001b[1;33m.\u001b[0m\u001b[0mcolumns\u001b[0m\u001b[1;33m)\u001b[0m\u001b[1;33m\u001b[0m\u001b[1;33m\u001b[0m\u001b[0m\n\u001b[0m\u001b[0;32m      3\u001b[0m \u001b[1;32mfor\u001b[0m \u001b[0mcol\u001b[0m \u001b[1;32min\u001b[0m \u001b[0mcols\u001b[0m\u001b[1;33m:\u001b[0m\u001b[1;33m\u001b[0m\u001b[1;33m\u001b[0m\u001b[0m\n\u001b[0;32m      4\u001b[0m     \u001b[1;32mif\u001b[0m \u001b[0mstr\u001b[0m\u001b[1;33m(\u001b[0m\u001b[0mdf_clean_columns\u001b[0m\u001b[1;33m[\u001b[0m\u001b[0mcol\u001b[0m\u001b[1;33m]\u001b[0m\u001b[1;33m.\u001b[0m\u001b[0mdtype\u001b[0m\u001b[1;33m)\u001b[0m \u001b[1;33m==\u001b[0m \u001b[1;34m'object'\u001b[0m\u001b[1;33m:\u001b[0m\u001b[1;33m\u001b[0m\u001b[1;33m\u001b[0m\u001b[0m\n\u001b[0;32m      5\u001b[0m         \u001b[0mdf_clean_columns\u001b[0m\u001b[1;33m[\u001b[0m\u001b[0mcol\u001b[0m\u001b[1;33m]\u001b[0m \u001b[1;33m=\u001b[0m \u001b[0mdf_clean_columns\u001b[0m\u001b[1;33m[\u001b[0m\u001b[0mcol\u001b[0m\u001b[1;33m]\u001b[0m\u001b[1;33m.\u001b[0m\u001b[0mastype\u001b[0m\u001b[1;33m(\u001b[0m\u001b[1;34m'category'\u001b[0m\u001b[1;33m)\u001b[0m\u001b[1;33m.\u001b[0m\u001b[0mcat\u001b[0m\u001b[1;33m.\u001b[0m\u001b[0mcodes\u001b[0m\u001b[1;33m\u001b[0m\u001b[1;33m\u001b[0m\u001b[0m\n",
      "\u001b[1;31mNameError\u001b[0m: name 'df_clean_columns' is not defined"
     ]
    }
   ],
   "source": [
    "# Encode categorical values \n",
    "cols = list(df_clean_columns.columns)\n",
    "for col in cols:\n",
    "    if str(df_clean_columns[col].dtype) == 'object':\n",
    "        df_clean_columns[col] = df_clean_columns[col].astype('category').cat.codes"
   ]
  },
  {
   "cell_type": "code",
   "execution_count": 9,
   "id": "b23eca2c",
   "metadata": {},
   "outputs": [],
   "source": [
    "'''\n",
    "import seaborn as sns\n",
    "\n",
    "import matplotlib.pyplot as plt\n",
    "\n",
    "# taking all rows but only 6 columns\n",
    "df_small = df.iloc[:,:6]\n",
    "\n",
    "correlation_mat = df_small.corr()\n",
    "\n",
    "sns.heatmap(correlation_mat, annot = True)\n",
    "\n",
    "plt.show()\n",
    "'''\n",
    "df_clean_corr = df_clean_columns.corrwith(df_clean_columns[\"CVDCRHD4\"])"
   ]
  },
  {
   "cell_type": "code",
   "execution_count": 14,
   "id": "78d19663",
   "metadata": {},
   "outputs": [
    {
     "data": {
      "text/plain": [
       "CVDCRHD4    1.000000\n",
       "CVDINFR4    0.402811\n",
       "_AGE80      0.170806\n",
       "_PNEUMO3    0.170164\n",
       "_FLSHOT7    0.160714\n",
       "_IMPAGE     0.157250\n",
       "_AGE_G      0.157250\n",
       "_AGEG5YR    0.155888\n",
       "DIABETE4    0.144073\n",
       "CHCCOPD2    0.142714\n",
       "HAVARTH4    0.142212\n",
       "AGE         0.138907\n",
       "FALL12MN    0.135479\n",
       "CVDSTRK3    0.131904\n",
       "_ALTETH3    0.126244\n",
       "_AGE65YR    0.123863\n",
       "FALLINJ4    0.116874\n",
       "CHCKDNY2    0.114548\n",
       "_RFPSA23    0.087866\n",
       "CHCSCNCR    0.079083\n",
       "PHYSHLTH    0.075435\n",
       "ASTHMA3     0.065752\n",
       "SEXVAR      0.064236\n",
       "_IMPSEX     0.064236\n",
       "_SEX        0.064236\n",
       "MSCODE      0.062817\n",
       "_CASTHM1    0.056548\n",
       "CHCOCNCR    0.056530\n",
       "CHECKUP1    0.056285\n",
       "_LTASTH1    0.055120\n",
       "dtype: float64"
      ]
     },
     "execution_count": 14,
     "metadata": {},
     "output_type": "execute_result"
    }
   ],
   "source": [
    "df_clean_corr.sort_values(inplace=True, ascending=False)\n",
    "df_clean_corr[2:30]"
   ]
  },
  {
   "cell_type": "code",
   "execution_count": null,
   "id": "25d3176b",
   "metadata": {},
   "outputs": [],
   "source": [
    "from sklearn.model_selection import train_test_split \n",
    "\n",
    "# Drop all missing values\n",
    "df_cleaned = df_clean_columns.dropna(axis = 0).reset_index(drop = True)\n",
    "print(df_cleaned['CVDCRHD4'])\n",
    "\n",
    "# Drop all rows that are Don't know/Not sure or Refused for column we are predicting\n",
    "df_cleaned = df_cleaned.loc[(df_cleaned['CVDCRHD4'] == 'No') | (df_cleaned['CVDCRHD4'] == 'Yes')]\n",
    "\n",
    "# Split into X and y\n",
    "X = df_cleaned.loc[:, df_cleaned.columns != 'CVDCRHD4']\n",
    "y = df_cleaned['CVDCRHD4']\n",
    "\n",
    "# Split the data into training and test data set\n",
    "X_train, X_test, y_train, y_test = train_test_split(X, y, train_size = 0.7, test_size = 0.3,random_state = 42)"
   ]
  },
  {
   "cell_type": "code",
   "execution_count": null,
   "id": "a6d15440",
   "metadata": {},
   "outputs": [],
   "source": [
    "null_vals = X_train.isnull().sum()\n",
    "null_vals_desc = null_vals.sort_values(ascending=False)\n",
    "null_vals_desc"
   ]
  },
  {
   "cell_type": "code",
   "execution_count": null,
   "id": "1da7c0ea",
   "metadata": {},
   "outputs": [],
   "source": [
    "famd = FAMD(n_components = 70, n_iter = 3, random_state = 42)\n",
    "X_train_transformed = famd.fit_transform(X_train)\n",
    "X_train_transformed.head()"
   ]
  },
  {
   "cell_type": "code",
   "execution_count": null,
   "id": "cda19a2c",
   "metadata": {},
   "outputs": [],
   "source": [
    "RANDOM_SEED = 694\n",
    "\n",
    "#Run dummy classifier to find the baseline performance\n",
    "dummy_clf = DummyClassifier(strategy= 'most_frequent').fit(famd.fit_transform(X_train),y_train)\n",
    "y_pred = dummy_clf.predict(famd.fit_transform(X_test))"
   ]
  },
  {
   "cell_type": "code",
   "execution_count": null,
   "id": "f8857312",
   "metadata": {},
   "outputs": [],
   "source": [
    "#helper function\n",
    "def get_performance_scores(y_pred, y_true):\n",
    "    f1 = f1_score(y_true, y_pred, average='macro')\n",
    "    accuracy = accuracy_score(y_true, y_pred)\n",
    "    precision = precision_score(y_true, y_pred, average='macro')\n",
    "    recall = recall_score(y_true, y_pred, average='macro')\n",
    "    return [f1, accuracy, precision, recall]\n",
    "\n",
    "def print_performance_scores(scores):\n",
    "    print(\"Accuracy Score = \" + str(scores[1]))\n",
    "    print(\"Precision Score = \" + str(scores[2]))\n",
    "    print(\"Recall Score = \" + str(scores[3]))\n",
    "    print(\"F1 Score = \" + str(scores[0]))"
   ]
  },
  {
   "cell_type": "code",
   "execution_count": null,
   "id": "e8243939",
   "metadata": {},
   "outputs": [],
   "source": [
    "#Find the performance of the model\n",
    "dummy_f1 = f1_score(y_test, y_pred, average='macro')\n",
    "dummy_accuracy = accuracy_score(y_test, y_pred)\n",
    "dummy_precision = precision_score(y_test, y_pred, average='macro')\n",
    "dummy_recall = recall_score(y_test, y_pred, average='macro')\n",
    "print(\"Accuracy Score = \" + str(dummy_accuracy))\n",
    "print(\"Precision Score = \" + str(dummy_precision))\n",
    "print(\"Recall Score = \" + str(dummy_recall))\n",
    "print(\"F1 Score = \" + str(dummy_f1))"
   ]
  },
  {
   "cell_type": "code",
   "execution_count": null,
   "id": "68bc113f",
   "metadata": {},
   "outputs": [],
   "source": [
    "clf_lr = LogisticRegression(random_state = RANDOM_SEED).fit(X_train_transformed, y_train)"
   ]
  },
  {
   "cell_type": "code",
   "execution_count": null,
   "id": "6e896341",
   "metadata": {},
   "outputs": [],
   "source": [
    "X_test_transformed = famd.fit_transform(X_test)\n",
    "train_preds = clf_lr.predict(X_test_transformed)"
   ]
  },
  {
   "cell_type": "code",
   "execution_count": null,
   "id": "27545078",
   "metadata": {},
   "outputs": [],
   "source": [
    "train_preds"
   ]
  },
  {
   "cell_type": "code",
   "execution_count": null,
   "id": "0ef2aa05",
   "metadata": {},
   "outputs": [],
   "source": [
    "lr_f1 = f1_score(y_test, train_preds, average='macro')\n",
    "lr_accuracy = accuracy_score(y_test, train_preds)\n",
    "lr_precision = precision_score(y_test, train_preds, average='macro')\n",
    "lr_recall = recall_score(y_test, train_preds, average='macro')\n",
    "print(\"Accuracy Score = \" + str(lr_accuracy))\n",
    "print(\"Precision Score = \" + str(lr_precision))\n",
    "print(\"Recall Score = \" + str(lr_recall))\n",
    "print(\"F1 Score = \" + str(lr_f1))"
   ]
  },
  {
   "cell_type": "code",
   "execution_count": null,
   "id": "199524be",
   "metadata": {},
   "outputs": [],
   "source": [
    "#Do grid search for hyperparameter tuning\n",
    "clf = LogisticRegression(random_state = RANDOM_SEED, solver='liblinear')\n",
    "grid_values = {'penalty': ['l1', 'l2'],'C':[0.001,.009,0.01,.09,1,5,10,25]}\n",
    "grid_clf_acc = GridSearchCV(clf, param_grid = grid_values,scoring = 'f1_macro')\n",
    "my_list = list(range(100))\n",
    "for x in tqdm(my_list):\n",
    "    grid_clf_acc.fit(X_train_transformed, y_train)\n",
    "\n",
    "y_pred_acc = grid_clf_acc.predict(X_test_transformed)\n",
    "\n",
    "print_performance_scores(get_performance_scores(y_pred_acc, y_test))"
   ]
  },
  {
   "cell_type": "code",
   "execution_count": null,
   "id": "0ed80802",
   "metadata": {},
   "outputs": [],
   "source": [
    "from sklearn.ensemble import RandomForestClassifier\n",
    "from sklearn.model_selection import RandomizedSearchCV\n",
    "\n",
    "rf_clf = RandomForestClassifier(random_state=RANDOM_SEED).fit(X_train_transformed, y_train)\n",
    "\n",
    "grid_values = {'bootstrap': [True, False],\n",
    " 'max_depth': [10, 20, 30, 40, 50, 60, 70, 80, 90, 100, None],\n",
    " 'max_features': ['auto', 'sqrt'],\n",
    " 'min_samples_leaf': [1, 2, 4],\n",
    " 'min_samples_split': [2, 5, 10],\n",
    " 'n_estimators': [200, 400, 600, 800, 1000, 1200, 1400, 1600, 1800, 2000]\n",
    " }\n",
    "\n",
    "rand_search_clf = RandomizedSearchCV(estimator = rf_clf, param_distributions = grid_values, n_iter = 1, cv = 3, verbose=2, random_state=RANDOM_SEED, n_jobs = -1)\n",
    "\n",
    "my_list = list(range(100))\n",
    "for x in tqdm(my_list):\n",
    "    rand_search_clf.fit(X_train_transformed[0:10000], y_train[0:10000])\n",
    "\n",
    "\n",
    "y_pred_rf = rand_search_clf.predict(X_test_transformed)\n",
    "   \n",
    "\n",
    "\n",
    "print_performance_scores(get_performance_scores(y_pred_rf, y_test))"
   ]
  },
  {
   "cell_type": "code",
   "execution_count": null,
   "id": "6f12252a",
   "metadata": {},
   "outputs": [],
   "source": [
    "random_forest = RandomForestClassifier(n_estimators = 100, random_state = RANDOM_SEED )\n",
    "random_forest.fit(X_train_transformed, y_train)\n",
    "\n",
    "y_pred = random_forest.predict(X_test_transformed)\n",
    "\n",
    "print_performance_scores(get_performance_scores(y_pred, y_test))"
   ]
  }
 ],
 "metadata": {
  "interpreter": {
   "hash": "eabca979b0553fa6d87e9a00c352604d3b703d4afc9641643dd42376492b80f6"
  },
  "kernelspec": {
   "display_name": "Python 3.9.2 64-bit",
   "language": "python",
   "name": "python3"
  },
  "language_info": {
   "codemirror_mode": {
    "name": "ipython",
    "version": 3
   },
   "file_extension": ".py",
   "mimetype": "text/x-python",
   "name": "python",
   "nbconvert_exporter": "python",
   "pygments_lexer": "ipython3",
   "version": "3.9.2"
  }
 },
 "nbformat": 4,
 "nbformat_minor": 5
}
